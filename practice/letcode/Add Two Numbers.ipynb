{
 "cells": [
  {
   "cell_type": "markdown",
   "metadata": {},
   "source": [
    "https://leetcode.com/problems/add-two-numbers/"
   ]
  },
  {
   "cell_type": "code",
   "execution_count": 155,
   "metadata": {},
   "outputs": [],
   "source": [
    "class ListNode:\n",
    "    def __init__(self, x):\n",
    "        self.val = x\n",
    "        self.next = None\n",
    "    def __str__(self):\n",
    "        return '{}'.format(self.val)\n",
    "\n",
    "# Input: (2 -> 4 -> 3) + (5 -> 6 -> 4)\n",
    "# Output: 7 -> 0 -> 8\n",
    "# Explanation: 342 + 465 = 807."
   ]
  },
  {
   "cell_type": "code",
   "execution_count": 159,
   "metadata": {},
   "outputs": [],
   "source": [
    "l1 = ListNode(1)\n",
    "l2 = ListNode(8)\n",
    "# l3 = ListNode(3)\n",
    "l1.next = l2\n",
    "# l2.next = l3\n",
    "\n",
    "l4 = ListNode(0)\n",
    "# l5 = ListNode(9)\n",
    "# l6 = ListNode(4)\n",
    "# l7 = ListNode(9)\n",
    "# l4.next = l5\n",
    "# l5.next = l6\n",
    "# l6.next = l7"
   ]
  },
  {
   "cell_type": "code",
   "execution_count": 160,
   "metadata": {},
   "outputs": [
    {
     "name": "stdout",
     "output_type": "stream",
     "text": [
      "1 0\n",
      "8 0\n",
      "[1, 8]\n"
     ]
    }
   ],
   "source": [
    "class Solution:\n",
    "    def addTwoNumbers(self, l1: ListNode, l2: ListNode) -> ListNode:\n",
    "        prev_rem = False\n",
    "        output = []\n",
    "        \n",
    "        \n",
    "        while l1 or l2:\n",
    "            if l1 and l2:\n",
    "                val = l1.val + l2.val\n",
    "                l1 = l1.next\n",
    "                l2 = l2.next\n",
    "            elif l1 and not l2:\n",
    "                val = l1.val\n",
    "                l1 = l1.next\n",
    "            else:\n",
    "                val = l2.val\n",
    "                l2 = l2.next\n",
    "            \n",
    "#             print(val)\n",
    "            \n",
    "            node, rem = val % 10, val // 10\n",
    "            print(node, rem)\n",
    "            \n",
    "            if prev_rem:\n",
    "                node += 1\n",
    "                node, prev_rem = node % 10, node // 10\n",
    "            prev_rem = rem\n",
    "\n",
    "            output.append(ListNode(node))\n",
    "\n",
    "        if prev_rem:\n",
    "            output.append(ListNode(1))\n",
    "        \n",
    "        for i in range(len(output)-1):\n",
    "            output[i].next = output[i+1]\n",
    "        print([v.val for v in output])\n",
    "        \n",
    "        return output\n",
    "            \n",
    "\n",
    "s = Solution().addTwoNumbers(l1, l4)\n",
    "\n"
   ]
  },
  {
   "cell_type": "code",
   "execution_count": 162,
   "metadata": {},
   "outputs": [
    {
     "name": "stdout",
     "output_type": "stream",
     "text": [
      "81 0 18\n",
      "1\n"
     ]
    }
   ],
   "source": [
    "class Solution:\n",
    "    def addTwoNumbers(self, l1: ListNode, l2: ListNode) -> ListNode:\n",
    "        l11 = []\n",
    "        l21 = []\n",
    "        o = []\n",
    "        \n",
    "        while l1:\n",
    "            l11.append(l1.val)\n",
    "            l1 = l1.next\n",
    "        while l2:\n",
    "            l21.append(l2.val)\n",
    "            l2 = l2.next\n",
    "        \n",
    "        f = int(''.join(str(o) for o in l11)[::-1])\n",
    "        s = int(''.join(str(o) for o in l21)[::-1])\n",
    "        r = str(f + s)[::-1]\n",
    "        \n",
    "        print(f, s, r)\n",
    "        for el in r:\n",
    "            o.append(ListNode(el))\n",
    "        \n",
    "        \n",
    "        for i in range(len(o)-1):\n",
    "            o[i].next = o[i+1]\n",
    "\n",
    "        return(o[0])\n",
    "\n",
    "s = Solution().addTwoNumbers(l1, l4)\n",
    "print(s)"
   ]
  }
 ],
 "metadata": {
  "kernelspec": {
   "display_name": "Python 3",
   "language": "python",
   "name": "python3"
  },
  "language_info": {
   "codemirror_mode": {
    "name": "ipython",
    "version": 3
   },
   "file_extension": ".py",
   "mimetype": "text/x-python",
   "name": "python",
   "nbconvert_exporter": "python",
   "pygments_lexer": "ipython3",
   "version": "3.7.0"
  }
 },
 "nbformat": 4,
 "nbformat_minor": 2
}
