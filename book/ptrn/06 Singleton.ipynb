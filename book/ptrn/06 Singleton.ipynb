{
 "cells": [
  {
   "cell_type": "markdown",
   "metadata": {},
   "source": [
    "# Singleton Design Pattern\n",
    "\n",
    "\n",
    "### Intent\n",
    "- Ensure a class has only one instance, and provide a global point of access to it.\n",
    "- Encapsulated \"just-in-time initialization\" or \"initialization on first use\".\n",
    "\n",
    "Singleton should be considered only if all three of the following criteria are satisfied:\n",
    "- Ownership of the single instance cannot be reasonably assigned\n",
    "- Lazy initialization is desirable\n",
    "- Global access is not otherwise provided for\n",
    "\n",
    "### Check list\n",
    "- Define a private static attribute in the \"single instance\" class.\n",
    "- Define a public static accessor function in the class.\n",
    "- Do \"lazy initialization\" (creation on first use) in the accessor function.\n",
    "- Define all constructors to be protected or private.\n",
    "- Clients may only use the accessor function to manipulate the Singleton.\n",
    "\n",
    "### Rules of thumb\n",
    "- Abstract Factory, Builder, and Prototype can use Singleton in their implementation.\n",
    "- Facade objects are often Singletons because only one Facade object is required.\n",
    "- State objects are often Singletons.\n",
    "- The advantage of Singleton over global variables is that you are absolutely sure of the number of instances when you use Singleton, and, you can change your mind and manage any number of instances.\n",
    "- The Singleton design pattern is one of the most inappropriately used patterns. Singletons are intended to be used when a class must have exactly one instance, no more, no less. Designers frequently use Singletons in a misguided attempt to replace global variables. A Singleton is, for intents and purposes, a global variable. The Singleton does not do away with the global; it merely renames it.\n",
    "- When is Singleton unnecessary? Short answer: most of the time. Long answer: when it's simpler to pass an object resource as a reference to the objects that need it, rather than letting objects access the resource globally. The real problem with Singletons is that they give you such a good excuse not to think carefully about the appropriate visibility of an object. Finding the right balance of exposure and protection for an object is critical for maintaining flexibility.\n",
    "- Our group had a bad habit of using global data, so I did a study group on Singleton. The next thing I know Singletons appeared everywhere and none of the problems related to global data went away. The answer to the global data question is not, \"Make it a Singleton.\" The answer is, \"Why in the hell are you using global data?\" Changing the name doesn't change the problem. In fact, it may make it worse because it gives you the opportunity to say, \"Well I'm not doing that, I'm doing this\" – even though this and that are the same thing."
   ]
  },
  {
   "cell_type": "code",
   "execution_count": 5,
   "metadata": {},
   "outputs": [],
   "source": [
    "\"\"\"\n",
    "Ensure a class only has one instance, and provide a global point of access to it.\n",
    "\"\"\"\n",
    "\n",
    "\n",
    "class Singleton(type):\n",
    "    \"\"\"\n",
    "    Define an Instance operation that lets clients access its unique\n",
    "    instance.\n",
    "    \"\"\"\n",
    "\n",
    "    def __init__(cls, name, bases, attrs, **kwargs):\n",
    "        super().__init__(name, bases, attrs)\n",
    "        cls._instance = None\n",
    "\n",
    "    def __call__(cls, *args, **kwargs):\n",
    "        if cls._instance is None:\n",
    "            cls._instance = super().__call__(*args, **kwargs)\n",
    "        return cls._instance\n",
    "\n",
    "\n",
    "class MyClass(metaclass=Singleton):\n",
    "    \"\"\"\n",
    "    Example class.\n",
    "    \"\"\"\n",
    "\n",
    "    pass\n",
    "\n",
    "\n",
    "def main():\n",
    "    m1 = MyClass()\n",
    "    m2 = MyClass()\n",
    "    assert m1 is m2\n",
    "\n",
    "\n",
    "if __name__ == \"__main__\":\n",
    "    main()"
   ]
  }
 ],
 "metadata": {
  "kernelspec": {
   "display_name": "Python 3",
   "language": "python",
   "name": "python3"
  },
  "language_info": {
   "codemirror_mode": {
    "name": "ipython",
    "version": 3
   },
   "file_extension": ".py",
   "mimetype": "text/x-python",
   "name": "python",
   "nbconvert_exporter": "python",
   "pygments_lexer": "ipython3",
   "version": "3.7.0"
  }
 },
 "nbformat": 4,
 "nbformat_minor": 2
}
