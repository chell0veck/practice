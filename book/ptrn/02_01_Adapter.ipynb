{
 "cells": [
  {
   "cell_type": "markdown",
   "metadata": {},
   "source": [
    "# Adapter\n",
    "\n",
    "- Use the Adapter class when you want to use some existing class, but its interface isn’t compatible with the rest of your code.\n",
    "- Use the pattern when you want to reuse several existing subclasses that lack some common functionality that can’t be added to the superclass.\n",
    "- You could extend each subclass and put the missing functionality into new child classes. However, you’ll need to duplicate the code across all of these new classes, which `smells really bad`.\n",
    "- The much more elegant solution would be to put the missing functionality into an adapter class. Then you would wrap objects with missing features inside the adapter, gaining needed features dynamically. For this to work, the target classes must have a common interface, and the adapter’s field should follow that interface. This approach looks very similar to the `Decorator` pattern.\n",
    "- `+` Single Responsibility Principle. You can separate the interface or data conversion code from the primary business logic of the program.\n",
    "- `+` Open/Closed Principle. You can introduce new types of adapters into the program without breaking the existing client code, as long as they work with the adapters through the client interface.\n",
    "- `-` The overall complexity of the code increases because you need to introduce a set of new interfaces and classes. Sometimes it’s simpler just to change the service class so that it matches the rest of your code.\n",
    "\n",
    "### Relations with Other Patterns\n",
    "- `Bridge` is usually designed up-front, letting you develop parts of an application independently of each other. On the other hand, `Adapter` is commonly used with an existing app to make some otherwise-incompatible classes work together nicely.\n",
    "\n",
    "- `Adapter` changes the interface of an existing object, while `Decorator` enhances an object without changing its interface. In addition, `Decorator` supports recursive composition, which isn’t possible when you use `Adapter`.\n",
    "\n",
    "- `Adapter` provides a different interface to the wrapped object, `Proxy` provides it with the same interface, and `Decorator` provides it with an enhanced interface.\n",
    "\n",
    "- `Facade` defines a new interface for existing objects, whereas `Adapter` tries to make the existing interface usable. `Adapter` usually wraps just one object, while `Facade` works with an entire subsystem of objects.\n",
    "\n",
    "- `Bridge`, `State`, `Strategy` (and to some degree `Adapter`) have very similar structures. Indeed, all of these patterns are based on composition, which is delegating work to other objects. However, they all solve different problems. A pattern isn’t just a recipe for structuring your code in a specific way. It can also communicate to other developers the problem the pattern solves."
   ]
  },
  {
   "cell_type": "code",
   "execution_count": 3,
   "metadata": {},
   "outputs": [
    {
     "name": "stdout",
     "output_type": "stream",
     "text": [
      "Client: I can work just fine with the Target objects:\n",
      "Target: The default target's behavior.\n",
      "\n",
      "Client: The Adaptee class has a weird interface. See, I don't understand it:\n",
      "Adaptee: .eetpadA eht fo roivaheb laicepS\n",
      "\n",
      "Client: But I can work with it via the Adapter:\n",
      "Adapter: (TRANSLATED) Special behavior of the Adaptee."
     ]
    }
   ],
   "source": [
    "class Target():\n",
    "    \"\"\"\n",
    "    The Target defines the domain-specific interface used by the client code.\n",
    "    \"\"\"\n",
    "\n",
    "    def request(self) -> str:\n",
    "        return \"Target: The default target's behavior.\"\n",
    "\n",
    "\n",
    "class Adaptee:\n",
    "    \"\"\"\n",
    "    The Adaptee contains some useful behavior, but its interface is incompatible\n",
    "    with the existing client code. The Adaptee needs some adaptation before the\n",
    "    client code can use it.\n",
    "    \"\"\"\n",
    "\n",
    "    def specific_request(self) -> str:\n",
    "        return \".eetpadA eht fo roivaheb laicepS\"\n",
    "\n",
    "\n",
    "class Adapter(Target):\n",
    "    \"\"\"\n",
    "    The Adapter makes the Adaptee's interface compatible with the Target's\n",
    "    interface.\n",
    "    \"\"\"\n",
    "\n",
    "    def __init__(self, adaptee: Adaptee) -> None:\n",
    "        self.adaptee = adaptee\n",
    "\n",
    "    def request(self) -> str:\n",
    "        return f\"Adapter: (TRANSLATED) {self.adaptee.specific_request()[::-1]}\"\n",
    "\n",
    "\n",
    "def client_code(target: Target) -> None:\n",
    "    \"\"\"\n",
    "    The client code supports all classes that follow the Target interface.\n",
    "    \"\"\"\n",
    "\n",
    "    print(target.request(), end=\"\")\n",
    "\n",
    "\n",
    "if __name__ == \"__main__\":\n",
    "    print(\"Client: I can work just fine with the Target objects:\")\n",
    "    target = Target()\n",
    "    client_code(target)\n",
    "    print(\"\\n\")\n",
    "\n",
    "    adaptee = Adaptee()\n",
    "    print(\"Client: The Adaptee class has a weird interface. See, I don't understand it:\")\n",
    "    print(f\"Adaptee: {adaptee.specific_request()}\", end=\"\\n\\n\")\n",
    "\n",
    "    print(\"Client: But I can work with it via the Adapter:\")\n",
    "    adapter = Adapter(adaptee)\n",
    "    client_code(adapter)"
   ]
  }
 ],
 "metadata": {
  "kernelspec": {
   "display_name": "Python 3",
   "language": "python",
   "name": "python3"
  },
  "language_info": {
   "codemirror_mode": {
    "name": "ipython",
    "version": 3
   },
   "file_extension": ".py",
   "mimetype": "text/x-python",
   "name": "python",
   "nbconvert_exporter": "python",
   "pygments_lexer": "ipython3",
   "version": "3.7.0"
  }
 },
 "nbformat": 4,
 "nbformat_minor": 2
}
