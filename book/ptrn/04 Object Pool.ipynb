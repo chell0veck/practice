{
 "cells": [
  {
   "cell_type": "markdown",
   "metadata": {},
   "source": [
    "# Object Pool Design Pattern\n",
    "\n",
    "To reuse...\n",
    "Object pools (otherwise known as resource pools) are used to manage the object caching. A client with access to a Object pool can avoid creating a new Objects by simply asking the pool for one that has already been instantiated instead.\n",
    "\n",
    "### Check list\n",
    "- Create ObjectPool class with private array of Objects inside\n",
    "- Create acquire and release methods in ObjectPool class\n",
    "- Make sure that your ObjectPool is Singleton\n",
    "\n",
    "### Rules of thumb\n",
    "- The Factory Method pattern can be used to encapsulate the creation logic for objects. However, it does not manage them after their creation, the object pool pattern keeps track of the objects it creates.\n",
    "- Object Pools are usually implemented as Singletons."
   ]
  },
  {
   "cell_type": "code",
   "execution_count": 2,
   "metadata": {},
   "outputs": [],
   "source": [
    "\"\"\"\n",
    "Offer a significant performance boost; it is most effective in\n",
    "situations where the cost of initializing a class instance is high, the\n",
    "rate of instantiation of a class is high, and the number of\n",
    "instantiations in use at any one time is low.\n",
    "\"\"\"\n",
    "\n",
    "\n",
    "class ReusablePool:\n",
    "    \"\"\"\n",
    "    Manage Reusable objects for use by Client objects.\n",
    "    \"\"\"\n",
    "\n",
    "    def __init__(self, size):\n",
    "        self._reusables = [Reusable() for _ in range(size)]\n",
    "\n",
    "    def acquire(self):\n",
    "        return self._reusables.pop()\n",
    "\n",
    "    def release(self, reusable):\n",
    "        self._reusables.append(reusable)\n",
    "\n",
    "\n",
    "class Reusable:\n",
    "    \"\"\"\n",
    "    Collaborate with other objects for a limited amount of time, then\n",
    "    they are no longer needed for that collaboration.\n",
    "    \"\"\"\n",
    "\n",
    "    pass\n",
    "\n",
    "\n",
    "def main():\n",
    "    reusable_pool = ReusablePool(10)\n",
    "    reusable = reusable_pool.acquire()\n",
    "    reusable_pool.release(reusable)\n",
    "\n",
    "\n",
    "if __name__ == \"__main__\":\n",
    "    main()"
   ]
  }
 ],
 "metadata": {
  "kernelspec": {
   "display_name": "Python 3",
   "language": "python",
   "name": "python3"
  },
  "language_info": {
   "codemirror_mode": {
    "name": "ipython",
    "version": 3
   },
   "file_extension": ".py",
   "mimetype": "text/x-python",
   "name": "python",
   "nbconvert_exporter": "python",
   "pygments_lexer": "ipython3",
   "version": "3.7.0"
  }
 },
 "nbformat": 4,
 "nbformat_minor": 2
}
