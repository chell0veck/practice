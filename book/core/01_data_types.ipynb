{
 "cells": [
  {
   "cell_type": "markdown",
   "metadata": {},
   "source": [
    "# Python Data Types"
   ]
  },
  {
   "cell_type": "markdown",
   "metadata": {},
   "source": [
    "### general\n",
    "- Use `in ()` over compound `if` statement `if ... == ... or ... == ..`\n",
    "- Using `==` determines if two objects have the same value (as defined by their `_eq` attribute). Using is determines if the two objects are actually the same object. Note that while there are cases where is works as if it were comparing for equality, these are special cases and shouldn’t be relied upon.`\n",
    "- Use `else` to execute code after a `for` loop concludes\n",
    "- Avoid using `''`, `[]`, and `{}` as default parameters to functions\n",
    "- Prefer absolute imports to relative imports\n",
    "- Do not use `from foo import *` to import the contents of a module\n",
    "- Arrange your import statements in a standard order\n",
    "- The string returned by `__repr__` should be unambiguous and, if possible, match the source code necessary to recreate the object being represented. That is why our chosen representation looks like calling the constructor of the class, e.g. `Vector(3, 4)`\n",
    "- Contrast `__repr__` with with `__str__`, which is called by the str() constructor and implicitly used by the print function. `__str__` should return a string suitable for display to end-users\n",
    "- Both `+` and `*` always create a new object, and never change their operands\n",
    "- Augmented assignment is not an atomic operation\n",
    "- How to discover the encoding of a byte sequence. Short answer: you can’t. You must be told.\n",
    "- all decorators: `property`, `classmethod`, `staticmethod`, `functools.wraps`, `lru_cache`, `singledispatch`\n",
    "- `x is not None`, The `is` operator is faster than `==`, because it cannot be overloaded\n",
    "- objects are never explicitly destroyed; however, when they become unreachable they may be garbage-collected\n",
    "- `del` does not delete objects, but objects may be deleted as a consequence of being unreachable after del is used\n",
    "- In “pure” functional programming, all data is immutable: appending to a collection actually creates a new collection. Python, however, is not a functional language, much less a pure one.\n",
    "- A popular way of explaining how parameter passing works in Python is the phrase: “Parameters are passed by value, but the values are references”. This not wrong, but causes confusion because the most common parameter passing modes in older languages are call by value (the function gets a copy of the argument) and call by reference (the function gets a pointer to the argument). In Python, the function gets a copy of the arguments, but the arguments are always references. So the value of the referenced objects may be changed, if they are mutable, but their identity cannot. Also, because the function gets a copy of the reference in an argument, rebinding it has no effect outside of the function. I adopted the term call by sharing after reading up on the subject in Programming Language Pragmatics, 3e, Michael L. Scott, section 8.3.1: Parameter modes (p. 396).\n",
    "- `classmethod`. to define a method that operates on the class and not on instances. E.g.: factory constructor\n",
    "- In contrast, the `staticmethod` decorator changes a method so that it receives no special first argument. In essence, a static method is just like a plain function that happens to live in a class body, instead of being defined at the module level.\n",
    "- Name mangling is about safety, not security\n",
    "- It’s considered bad form to use `__slots__` just to prevent users of your class to create new attributes in the instances if they want to. `__slots__` should used for optimization, not for programmer restraint.\n",
    "- The MRO is computed using an algorithm called C3. The canonical paper on the Python MRO explaining C3 is Michele Simionato’s The Python 2.3 Method Resolution Order. If you are interested in the subtleties of the MRO, “Further reading” on page 369 has other point‐ ers. But don’t fret too much about this, the algorithm is sensible and Simionato wrote: `[...] unless you make strong use of multiple inheritance and you have non-trivial hierarchies, you don’t need to under‐ stand the C3 algorithm, and you can easily skip this paper`.\n",
    "- Favor object composition over class inheritance\n",
    "- Every generator is an iterator: generators fully implement the iterator interface. But an iterator — as defined in the GoF book — re‐ trieves items from a collection, while a generator can produce items “out of thin air”.\n",
    "- It’s important to be clear about the relationship between iterables and iterators: Python obtains iterators from iterables.\n",
    " - `for`. The `else` block will run only if and when the `for` loop runs to completion; i.e. not if the `for` is aborted with a `break`.\n",
    "- The context manager protocol consists of the `__enter__` and `__exit__` methods.\n",
    "- A coroutine is syntactically like a generator: just a function with the yield keyword in its body. However, in a coroutine, yield usually appears on the right side of an expres‐ sion, e.g. `datum = yield`, and it may or may not produce a value — if there is no ex‐ pression after the `yield` keyword, the generator yields `None`. The coroutine may receive data from the caller, which uses `.send(datum)` instead of `next(…)` to feed the coroutine. Usually, the caller pushes values into the coroutine."
   ]
  },
  {
   "cell_type": "markdown",
   "metadata": {},
   "source": [
    "#### async\n",
    "\n",
    "|  | Processes | Threads | Async |\n",
    "| --- | --- | --- | --- |\n",
    "| Optimize waiting periods  |  Yes (preemptive)  |  Yes (preemptive) | Yes (cooperative) |\n",
    "| Use all CPU cores |      Yes     |      No      |       No      |\n",
    "| Scalability       |      Low (ones/tens)     |    Medium  (hundreds)  |      High (thousands+)    |\n",
    "| Use blocking std library functions  |      Yes     |      Yes     |       No      |\n",
    "| GIL interface     |      No      |     Some     |       No      |\n"
   ]
  }
 ],
 "metadata": {
  "kernelspec": {
   "display_name": "Python 3",
   "language": "python",
   "name": "python3"
  },
  "language_info": {
   "codemirror_mode": {
    "name": "ipython",
    "version": 3
   },
   "file_extension": ".py",
   "mimetype": "text/x-python",
   "name": "python",
   "nbconvert_exporter": "python",
   "pygments_lexer": "ipython3",
   "version": "3.7.3"
  }
 },
 "nbformat": 4,
 "nbformat_minor": 4
}
