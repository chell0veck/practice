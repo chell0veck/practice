{
 "cells": [
  {
   "cell_type": "markdown",
   "metadata": {},
   "source": [
    "### STACK"
   ]
  },
  {
   "cell_type": "markdown",
   "metadata": {},
   "source": [
    "Stack is ordered collection of items also known as LIFO."
   ]
  },
  {
   "cell_type": "code",
   "execution_count": 65,
   "metadata": {},
   "outputs": [],
   "source": [
    "class Stack:\n",
    "    \n",
    "    def __init__(self):\n",
    "        self.stack = []\n",
    "        \n",
    "    def isEmpty(self):\n",
    "        return self.stack == []\n",
    "    \n",
    "    def push(self, item):\n",
    "        self.stack.append(item)\n",
    "        \n",
    "    def pop(self):\n",
    "        self.stack.pop()\n",
    "            \n",
    "    def size(self):\n",
    "        return len(self.stack)\n",
    "    \n",
    "    def peek(self):\n",
    "        return self.stack[-1]"
   ]
  },
  {
   "cell_type": "markdown",
   "metadata": {},
   "source": [
    "### QUEUE"
   ]
  },
  {
   "cell_type": "markdown",
   "metadata": {},
   "source": [
    " QUEUE- Ordered collection of items known as FIFO"
   ]
  },
  {
   "cell_type": "code",
   "execution_count": 67,
   "metadata": {},
   "outputs": [],
   "source": [
    "class Queue:\n",
    "    def __init__(self):\n",
    "        self.items = []\n",
    "    \n",
    "    def enqueue(self, item):    # or insert(0, item)\n",
    "        self.items.append(item)\n",
    "\n",
    "    def dequeue(self):          # or just pop()\n",
    "        self.items.pop(0)\n",
    "    \n",
    "    def is_empty(self):\n",
    "        return self.items == []\n",
    "    \n",
    "    def size(self):\n",
    "        return len(self.items)\n",
    "    \n",
    "    def queue(self):\n",
    "        return self.items"
   ]
  },
  {
   "cell_type": "markdown",
   "metadata": {},
   "source": [
    "### DEQUE"
   ]
  },
  {
   "cell_type": "markdown",
   "metadata": {},
   "source": [
    "Known as doble ended queue"
   ]
  },
  {
   "cell_type": "code",
   "execution_count": 72,
   "metadata": {},
   "outputs": [],
   "source": [
    "class Deque:\n",
    "    \n",
    "    def __init__(self):\n",
    "        self.items = []\n",
    "    \n",
    "    def addFront(self, item):\n",
    "        self.items.append(item)\n",
    "    \n",
    "    def addRear(self, item):\n",
    "        self.items.insert(0, item)\n",
    "    \n",
    "    def removeFront(self):\n",
    "        self.items.pop()\n",
    "    \n",
    "    def removeRear(self):\n",
    "        self.items.pop(0)\n",
    "    \n",
    "    def is_empty(self):\n",
    "        return self.items == []\n",
    "    \n",
    "    def size(self):\n",
    "        return len(self.items)"
   ]
  },
  {
   "cell_type": "markdown",
   "metadata": {},
   "source": [
    "### PROBLEMS"
   ]
  },
  {
   "cell_type": "markdown",
   "metadata": {},
   "source": [
    "#### Problem #1 - Implement Stack"
   ]
  },
  {
   "cell_type": "markdown",
   "metadata": {},
   "source": [
    "#### Problem #2 - Implement Queue"
   ]
  },
  {
   "cell_type": "markdown",
   "metadata": {},
   "source": [
    "#### Problem #3 - Implement Dequeue"
   ]
  },
  {
   "cell_type": "markdown",
   "metadata": {},
   "source": [
    "#### Problem #4 - Balanced Parentheses Check"
   ]
  },
  {
   "cell_type": "markdown",
   "metadata": {},
   "source": [
    "my variant:"
   ]
  },
  {
   "cell_type": "code",
   "execution_count": 1,
   "metadata": {},
   "outputs": [
    {
     "data": {
      "text/plain": [
       "'ALL TEST CASES PASSED'"
      ]
     },
     "execution_count": 1,
     "metadata": {},
     "output_type": "execute_result"
    }
   ],
   "source": [
    "from udemy.tests import TestBalanceCheck\n",
    "\n",
    "\n",
    "def balance_check(s):\n",
    "    mtable = {'(': ')', '{': '}', '[': ']'}\n",
    "    stack = []\n",
    "\n",
    "    for p in s:\n",
    "        if p in mtable:\n",
    "            stack.append(p)\n",
    "        else:\n",
    "            if stack and p == mtable[stack[-1]]:\n",
    "                stack.pop()\n",
    "            else:\n",
    "                return False\n",
    "    if stack:\n",
    "        return False\n",
    "\n",
    "    return True\n",
    "\n",
    "t = TestBalanceCheck()\n",
    "t.test(balance_check)"
   ]
  },
  {
   "cell_type": "markdown",
   "metadata": {},
   "source": [
    "class solution including edge case if number is odd."
   ]
  },
  {
   "cell_type": "code",
   "execution_count": 2,
   "metadata": {},
   "outputs": [
    {
     "data": {
      "text/plain": [
       "'ALL TEST CASES PASSED'"
      ]
     },
     "execution_count": 2,
     "metadata": {},
     "output_type": "execute_result"
    }
   ],
   "source": [
    "from udemy.tests import TestBalanceCheck\n",
    "\n",
    "\n",
    "def balance_check(s):\n",
    "    \n",
    "    if len(s) %2 != 0:\n",
    "        return False\n",
    "    \n",
    "    opening = set('([{')\n",
    "    matches = set([('(', ')'), ('[', ']'), ('{', '}')])\n",
    "    stack = []\n",
    "    \n",
    "    for paren in s:\n",
    "        if paren in opening:\n",
    "            stack.append(paren)\n",
    "        else:\n",
    "            if len(stack) == 0:\n",
    "                return False\n",
    "            \n",
    "            last_open = stack.pop()\n",
    "            \n",
    "            if (last_open, paren) not in matches:\n",
    "                return False\n",
    "    \n",
    "    return len(stack) == 0\n",
    "   \n",
    "t = TestBalanceCheck()\n",
    "t.test(balance_check) "
   ]
  },
  {
   "cell_type": "markdown",
   "metadata": {},
   "source": [
    "#### Problem #5 - Implement a Queue - Using Two Stacks"
   ]
  },
  {
   "cell_type": "markdown",
   "metadata": {},
   "source": [
    "my solution: do not know"
   ]
  },
  {
   "cell_type": "markdown",
   "metadata": {},
   "source": [
    "class solution:"
   ]
  },
  {
   "cell_type": "code",
   "execution_count": 1,
   "metadata": {},
   "outputs": [],
   "source": [
    "class Queue2Stack:\n",
    "    \n",
    "    def __init__(self):\n",
    "        self.instack = []\n",
    "        self.outstack = []\n",
    "    \n",
    "    def enqueue(self, item):\n",
    "        self.instack.append(item)\n",
    "        \n",
    "    def dequeue(self):\n",
    "        if not self.outstack:\n",
    "            while self.instack:\n",
    "                self.outstack.append(self.instack.pop())\n",
    "        \n",
    "        return self.outstack.pop()"
   ]
  },
  {
   "cell_type": "markdown",
   "metadata": {},
   "source": [
    "#### Problem #6 - Converting Decimal Numbers to Binary Numbers"
   ]
  },
  {
   "cell_type": "markdown",
   "metadata": {},
   "source": [
    "source: http://interactivepython.org/courselib/static/pythonds/BasicDS/ConvertingDecimalNumberstoBinaryNumbers.html"
   ]
  },
  {
   "cell_type": "markdown",
   "metadata": {},
   "source": [
    "my solution"
   ]
  },
  {
   "cell_type": "code",
   "execution_count": 3,
   "metadata": {},
   "outputs": [
    {
     "name": "stdout",
     "output_type": "stream",
     "text": [
      "ALL TEST CASES PASSED\n"
     ]
    }
   ],
   "source": [
    "from udemy.tests import TestDec2Bin\n",
    "\n",
    "\n",
    "def dec_to_bin(dec_num):\n",
    "    bin_num = ''\n",
    "    sign = None\n",
    "\n",
    "    if dec_num < 0:\n",
    "        sign = '-'\n",
    "        dec_num = abs(dec_num)\n",
    "\n",
    "    base, rem = dec_num // 2, dec_num % 2\n",
    "\n",
    "    while base > 0:\n",
    "        bin_num += str(rem)\n",
    "        base, rem = base // 2, base % 2\n",
    "\n",
    "    bin_num += str(rem)\n",
    "\n",
    "    if sign:\n",
    "        bin_num = '-0b' + bin_num[::-1]\n",
    "    else:\n",
    "        bin_num = '0b' + bin_num[::-1]\n",
    "\n",
    "    return bin_num\n",
    "\n",
    "t = TestDec2Bin()\n",
    "print(t.test(dec_to_bin))"
   ]
  },
  {
   "cell_type": "markdown",
   "metadata": {},
   "source": [
    "Their solution that doesn't count sign but it's better than mine."
   ]
  },
  {
   "cell_type": "code",
   "execution_count": null,
   "metadata": {},
   "outputs": [],
   "source": [
    "def divideBy2(decNumber):\n",
    "    remstack = []\n",
    "\n",
    "    while decNumber > 0:\n",
    "        rem = decNumber % 2\n",
    "        remstack.append(rem)\n",
    "        decNumber = decNumber // 2\n",
    "\n",
    "    binString = \"\"\n",
    "\n",
    "    while remstack:\n",
    "        binString = binString + str(remstack.pop())\n",
    "\n",
    "    return binString"
   ]
  },
  {
   "cell_type": "markdown",
   "metadata": {},
   "source": [
    "I guees the best one without taking into account a sign would be:"
   ]
  },
  {
   "cell_type": "code",
   "execution_count": 4,
   "metadata": {},
   "outputs": [],
   "source": [
    "def divideBy2(num):\n",
    "    binary = ''\n",
    "\n",
    "    while num > 0:\n",
    "        num, rem = num // 2, num % 2\n",
    "        binary += str(rem)\n",
    "\n",
    "    return binary[::-1]"
   ]
  },
  {
   "cell_type": "markdown",
   "metadata": {},
   "source": [
    "Another example of convertor to any base up to 16"
   ]
  },
  {
   "cell_type": "code",
   "execution_count": null,
   "metadata": {},
   "outputs": [],
   "source": [
    "def dec2base(dnum, base):\n",
    "    digits = '0123456789ABCDEF'\n",
    "    result = []\n",
    "    sign = None\n",
    "\n",
    "    if dnum < 0:\n",
    "        sign = '-'\n",
    "        dnum = abs(dnum)\n",
    "\n",
    "    while dnum > 0:\n",
    "        dnum, rem = dnum // base, dnum % base\n",
    "        result.append(rem)\n",
    "    \n",
    "    result = ''.join(digits[idx] for idx in result)[::-1]\n",
    "\n",
    "    return result"
   ]
  },
  {
   "cell_type": "markdown",
   "metadata": {},
   "source": [
    "#### Problem 6 - Hot Potato "
   ]
  },
  {
   "cell_type": "markdown",
   "metadata": {},
   "source": [
    "source: http://interactivepython.org/courselib/static/pythonds/BasicDS/SimulationHotPotato.html.\n",
    "\n",
    "done by myself"
   ]
  },
  {
   "cell_type": "code",
   "execution_count": 2,
   "metadata": {},
   "outputs": [
    {
     "name": "stdout",
     "output_type": "stream",
     "text": [
      "Susan\n"
     ]
    }
   ],
   "source": [
    "def hot_potato(names, num):\n",
    "\n",
    "    while len(names) > 1:\n",
    "        for i in range(num):\n",
    "            names.append(names.pop(0))\n",
    "        names.pop(0)\n",
    "\n",
    "    return names.pop()\n",
    "\n",
    "print(hot_potato([\"Bill\", \"David\", \"Susan\", \"Jane\", \"Kent\", \"Brad\"], 7))"
   ]
  },
  {
   "cell_type": "markdown",
   "metadata": {},
   "source": [
    "#### Problem 7 - Palindrome check"
   ]
  },
  {
   "cell_type": "markdown",
   "metadata": {},
   "source": [
    "Both done by myself"
   ]
  },
  {
   "cell_type": "code",
   "execution_count": 6,
   "metadata": {},
   "outputs": [
    {
     "name": "stdout",
     "output_type": "stream",
     "text": [
      "ALL TEST CASES PASSED\n"
     ]
    }
   ],
   "source": [
    "from collections import deque\n",
    "from udemy.tests import TestPalindrome\n",
    "\n",
    "\n",
    "def palchecker(word):\n",
    "    d = deque()\n",
    "\n",
    "    for letter in word:\n",
    "        d.append(letter)\n",
    "\n",
    "    while len(d) > 1:\n",
    "        if d.popleft() != d.pop():\n",
    "            return False\n",
    "\n",
    "    return True\n",
    "\n",
    "t = TestPalindrome()\n",
    "print(t.test(palchecker))"
   ]
  },
  {
   "cell_type": "code",
   "execution_count": 1,
   "metadata": {},
   "outputs": [
    {
     "name": "stdout",
     "output_type": "stream",
     "text": [
      "ALL TEST CASES PASSED\n"
     ]
    }
   ],
   "source": [
    "from udemy.tests import TestPalindrome\n",
    "\n",
    "def palchecker(word):\n",
    "\n",
    "    if len(word) < 2:\n",
    "        return True\n",
    "\n",
    "    for idx in range(len(word) // 2):\n",
    "        if word[idx] != word[-idx-1]:\n",
    "            return False\n",
    "\n",
    "    return True\n",
    "\n",
    "t = TestPalindrome()\n",
    "print(t.test(palchecker))"
   ]
  }
 ],
 "metadata": {
  "kernelspec": {
   "display_name": "Python 3",
   "language": "python",
   "name": "python3"
  },
  "language_info": {
   "codemirror_mode": {
    "name": "ipython",
    "version": 3
   },
   "file_extension": ".py",
   "mimetype": "text/x-python",
   "name": "python",
   "nbconvert_exporter": "python",
   "pygments_lexer": "ipython3",
   "version": "3.6.1"
  }
 },
 "nbformat": 4,
 "nbformat_minor": 2
}
