{
 "cells": [
  {
   "cell_type": "markdown",
   "metadata": {},
   "source": [
    "# Sorting\n",
    "## Bubble Sort\n",
    "#### normal"
   ]
  },
  {
   "cell_type": "code",
   "execution_count": 62,
   "metadata": {},
   "outputs": [],
   "source": [
    "def bubble_sort(array):\n",
    "    print('\\n')\n",
    "    swaps = 0\n",
    "    compare = 0\n",
    "    for i in range(len(array)-1, 0, -1):\n",
    "        for id in range(i):\n",
    "            compare += 1\n",
    "            if array[id] > array[id + 1]:\n",
    "                swaps += 1\n",
    "                array[id], array[id + 1] = array[id + 1], array[id]\n",
    "    print('bubble: comparisons: {}, swaps: {}'.format(compare, swaps))\n",
    "    print(array)"
   ]
  },
  {
   "cell_type": "markdown",
   "metadata": {},
   "source": [
    "#### short \n",
    "if we reached and of external cycle and didn't do any swaps it means everything before is sorted already and hence nothing to do more."
   ]
  },
  {
   "cell_type": "code",
   "execution_count": 65,
   "metadata": {},
   "outputs": [],
   "source": [
    "def short_bubble_sort(array):\n",
    "    print('\\n')\n",
    "    exchanges = True\n",
    "    passnum = len(array) - 1\n",
    "    swaps = 0\n",
    "    compare = 0\n",
    "\n",
    "    while passnum > 0 and exchanges:\n",
    "        exchanges = False\n",
    "        for i in range(passnum):\n",
    "            compare += 1\n",
    "            if array[i] > array[i + 1]:\n",
    "                swaps += 1\n",
    "                exchanges = True\n",
    "                array[i], array[i + 1] = array[i + 1], array[i]\n",
    "\n",
    "        passnum -= 1\n",
    "    print('short bubble: comparisons: {}, swaps: {}'.format(compare, swaps))\n",
    "    print(array)"
   ]
  },
  {
   "cell_type": "markdown",
   "metadata": {},
   "source": [
    "## Selection Sort"
   ]
  },
  {
   "cell_type": "code",
   "execution_count": 74,
   "metadata": {},
   "outputs": [],
   "source": [
    "def selection_sort(array):\n",
    "    print('\\n')\n",
    "    compare = 0\n",
    "    swaps = 0\n",
    "\n",
    "    for cur_pos in range(len(array)-1,0,-1):\n",
    "        max_pos=0\n",
    "        \n",
    "        for location in range(1,cur_pos+1):\n",
    "            compare += 1\n",
    "            if array[location] > array[max_pos]:\n",
    "                swaps += 1\n",
    "                max_pos = location\n",
    "\n",
    "        array[cur_pos], array[max_pos] = array[max_pos], array[cur_pos]\n",
    "    print('selection: comparisons: {}, swaps: {}'.format(compare, swaps))\n",
    "    print(array)"
   ]
  },
  {
   "cell_type": "markdown",
   "metadata": {},
   "source": [
    "##  Insertion Sort"
   ]
  },
  {
   "cell_type": "code",
   "execution_count": 83,
   "metadata": {},
   "outputs": [],
   "source": [
    "def insertion_sort(array):\n",
    "    print('\\n')\n",
    "    swaps = 0\n",
    "    for idx in range(len(array)):\n",
    "\n",
    "        curr_value = array[idx]\n",
    "        position = idx\n",
    "\n",
    "        while position > 0 and array[position - 1] > curr_value:\n",
    "            swaps += 1\n",
    "            array[position] = array[position-1]\n",
    "            position -= 1\n",
    "\n",
    "        array[position] = curr_value\n",
    "    print('insersion, ...., swaps:{}'.format(swaps))\n",
    "    print(array)"
   ]
  },
  {
   "cell_type": "markdown",
   "metadata": {},
   "source": [
    "##  Shell Sort"
   ]
  },
  {
   "cell_type": "code",
   "execution_count": 97,
   "metadata": {},
   "outputs": [],
   "source": [
    "def shell_sort(array):\n",
    "    sub_count = len(array) // 2\n",
    "    \n",
    "    while sub_count > 0:\n",
    "        \n",
    "        for start_point in range(sub_count):\n",
    "            insert_sort(array, start_point, sub_count)\n",
    "            \n",
    "        sub_count //= 2\n",
    "    \n",
    "\n",
    "def insert_sort(array, start, gap):\n",
    "    \n",
    "    for i in range(start + gap, len(array), gap):\n",
    "        \n",
    "        current_value = array[i]\n",
    "        position = i\n",
    "        \n",
    "        while position > 0 and array[position - 1] > current_value:\n",
    "            array[position] = array[position - gap]\n",
    "            position -= gap\n",
    "        \n",
    "        array[position] = current_value"
   ]
  },
  {
   "cell_type": "markdown",
   "metadata": {},
   "source": [
    "##  Merge Sort"
   ]
  },
  {
   "cell_type": "code",
   "execution_count": 103,
   "metadata": {},
   "outputs": [],
   "source": [
    "def merge_sort(array):\n",
    "    \n",
    "#     print('splitting: {}'.format(array))\n",
    "    \n",
    "    if len(array) > 1:\n",
    "        mid = len(array) // 2\n",
    "        left = array[:mid]\n",
    "        right = array[mid:]\n",
    "        \n",
    "        merge_sort(left)\n",
    "        merge_sort(right)\n",
    "        \n",
    "        i = 0\n",
    "        j = 0\n",
    "        k = 0\n",
    "        \n",
    "        while i < len(left) and j < len(right):\n",
    "            if left[i] < right[j]:\n",
    "                array[k] = left[i]\n",
    "                i += 1\n",
    "            else:\n",
    "                array[k] = right[j]\n",
    "                j += 1\n",
    "            k += 1\n",
    "            \n",
    "        while i < len(left):\n",
    "            array[k] = left[i]\n",
    "            i += 1\n",
    "            k += 1\n",
    "            \n",
    "        while j < len(right):\n",
    "            array[k] = right[j]\n",
    "            j += 1\n",
    "            k += 1\n",
    "#     print('Merging: {}'.format(array))\n",
    "            "
   ]
  },
  {
   "cell_type": "markdown",
   "metadata": {},
   "source": [
    "##  Quick Sort"
   ]
  },
  {
   "cell_type": "code",
   "execution_count": 2,
   "metadata": {},
   "outputs": [],
   "source": [
    "def quick_sort(array):\n",
    "    quick_sort_helper(array, 0, len(array) - 1)\n",
    "    \n",
    "def quick_sort_helper(array, first, last):\n",
    "    \n",
    "    if first < last:\n",
    "        splitpoint = partition(array, first, last)\n",
    "        \n",
    "        quick_sort_helper(array, first, splitpoint - 1)\n",
    "        quick_sort_helper(array, splitpoint + 1, last)\n",
    "\n",
    "def partition(array, first, last):\n",
    "    \n",
    "    pivot_value = array[first]\n",
    "    \n",
    "    left_mark = first + 1\n",
    "    right_mark = last\n",
    "    \n",
    "    done = False\n",
    "    \n",
    "    while not done:\n",
    "        \n",
    "        while left_mark <= right_mark and array[left_mark] <= pivot_value:\n",
    "            left_mark += 1\n",
    "        \n",
    "        while left_mark <= right_mark and array[right_mark] >= pivot_value:\n",
    "            right_mark -= 1\n",
    "        \n",
    "        if right_mark < left_mark:\n",
    "            done = True\n",
    "        else:\n",
    "            array[left_mark], array[right_mark] = array[right_mark], array[left_mark]\n",
    "\n",
    "    array[first], array[right_mark] = array[right_mark], array[first]\n",
    "    \n",
    "    return right_mark"
   ]
  },
  {
   "cell_type": "markdown",
   "metadata": {},
   "source": [
    "## Tests"
   ]
  },
  {
   "cell_type": "code",
   "execution_count": 3,
   "metadata": {},
   "outputs": [
    {
     "name": "stdout",
     "output_type": "stream",
     "text": [
      "[11, 7, 12, 14, 19, 1, 6, 18, 8, 20]\n",
      "[1, 6, 7, 8, 11, 12, 14, 18, 19, 20]\n"
     ]
    }
   ],
   "source": [
    "l0 = [11, 7, 12, 14, 19, 1, 6, 18, 8, 20]\n",
    "l1, l2, l3, l4, l5 = l0.copy(), l0.copy(), l0.copy(), l0.copy(), l0.copy()\n",
    "l6 = l0.copy()\n",
    "l7 = l0.copy()\n",
    "\n",
    "# print(l0)\n",
    "# bubble_sort(l1)\n",
    "# short_bubble_sort(l2)\n",
    "# selection_sort(l3)\n",
    "# insertion_sort(l4)\n",
    "\n",
    "# print('\\n')\n",
    "# print(l5)\n",
    "# shell_sort(l5)\n",
    "# print(l5)\n",
    "\n",
    "# print('\\n')\n",
    "# print(l6)\n",
    "# merge_sort(l6)\n",
    "# print(l6)\n",
    "\n",
    "\n",
    "# print('\\n')\n",
    "print(l7)\n",
    "quick_sort(l7)\n",
    "print(l7)\n"
   ]
  },
  {
   "cell_type": "markdown",
   "metadata": {},
   "source": [
    "# Summary\n",
    "- A <b>sequential</b> search is <b>O(n)</b> for ordered and unordered lists.\n",
    "- A <b>binary search</b> of an ordered list is <b>O(logn)</b> in the worst case.\n",
    "- <b>Hash</b> tables can provide <b>constant</b> time searching.\n",
    "- A <b>bubble sort</b>, a selection sort, and an insertion sort are <b>O(n2)</b> algorithms.\n",
    "- A <b>shell</b> sort improves on the insertion sort by sorting incremental sublists. It falls <b>between O(n) and O(n2)</b>.\n",
    "- A <b>merge sort</b> is <b>O(nlogn)</b>, but requires additional space for the merging process.\n",
    "- A <b>quick sort</b> is <b>O(nlogn), but may degrade to O(n2)</b> if the split points are not near the middle of the list. It does not require additional space."
   ]
  }
 ],
 "metadata": {
  "kernelspec": {
   "display_name": "Python 3",
   "language": "python",
   "name": "python3"
  },
  "language_info": {
   "codemirror_mode": {
    "name": "ipython",
    "version": 3
   },
   "file_extension": ".py",
   "mimetype": "text/x-python",
   "name": "python",
   "nbconvert_exporter": "python",
   "pygments_lexer": "ipython3",
   "version": "3.7.3"
  }
 },
 "nbformat": 4,
 "nbformat_minor": 4
}
