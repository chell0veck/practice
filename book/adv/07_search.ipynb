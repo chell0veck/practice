{
 "cells": [
  {
   "cell_type": "markdown",
   "metadata": {},
   "source": [
    "# Searching\n",
    "\n",
    "## The Sequential Search\n",
    "\n",
    "### -- unsorted"
   ]
  },
  {
   "cell_type": "code",
   "execution_count": 1,
   "metadata": {},
   "outputs": [
    {
     "name": "stdout",
     "output_type": "stream",
     "text": [
      "False\n",
      "True\n"
     ]
    }
   ],
   "source": [
    "def sequential_search(array, item):\n",
    "    idx = 0\n",
    "    found = False\n",
    "    \n",
    "    while idx < len(array) and not found:\n",
    "        if array[idx] == item:\n",
    "            found = True\n",
    "        else:\n",
    "            idx += 1\n",
    "    \n",
    "    return found\n",
    "\n",
    "\n",
    "alist = [1, 2, 32, 8, 17, 19, 42, 13, 0]\n",
    "print(sequential_search(alist, 3))\n",
    "print(sequential_search(alist, 13))"
   ]
  },
  {
   "cell_type": "markdown",
   "metadata": {},
   "source": [
    "### -- sorted"
   ]
  },
  {
   "cell_type": "code",
   "execution_count": 3,
   "metadata": {},
   "outputs": [
    {
     "name": "stdout",
     "output_type": "stream",
     "text": [
      "False\n",
      "True\n"
     ]
    }
   ],
   "source": [
    "def ordered_sequential_search(array, item):\n",
    "    idx = 0\n",
    "    found = False\n",
    "    stop = False\n",
    "    \n",
    "    while idx < len(array) and not found and not stop:\n",
    "        if array[idx] == item:\n",
    "            found = True\n",
    "        else:\n",
    "            if array[idx] > item:\n",
    "                stop = True\n",
    "            else:\n",
    "                idx += 1\n",
    "    return found\n",
    "\n",
    "testlist = [0, 1, 2, 8, 13, 17, 19, 32, 42,]\n",
    "print(ordered_sequential_search(testlist, 3))\n",
    "print(ordered_sequential_search(testlist, 13))"
   ]
  },
  {
   "cell_type": "markdown",
   "metadata": {},
   "source": [
    "## Binary Search\n",
    "### iteration"
   ]
  },
  {
   "cell_type": "code",
   "execution_count": 4,
   "metadata": {},
   "outputs": [
    {
     "name": "stdout",
     "output_type": "stream",
     "text": [
      "False\n",
      "True\n"
     ]
    }
   ],
   "source": [
    "def binary_search(array, item):\n",
    "    l, r = 0, len(array) - 1\n",
    "    \n",
    "    while l <= r:\n",
    "        mid = (l + r) // 2\n",
    "        \n",
    "        if item == array[mid]:\n",
    "            return True\n",
    "        if item < array[mid]:\n",
    "            r = mid - 1\n",
    "        if item > array[mid]:\n",
    "            l = mid + 1\n",
    "    \n",
    "    return False\n",
    "\n",
    "testlist = [0, 1, 2, 8, 13, 17, 19, 32, 42]\n",
    "print(binary_search(testlist, 3))\n",
    "print(binary_search(testlist, 13))"
   ]
  },
  {
   "cell_type": "markdown",
   "metadata": {},
   "source": [
    "### recursion"
   ]
  },
  {
   "cell_type": "code",
   "execution_count": 6,
   "metadata": {},
   "outputs": [
    {
     "name": "stdout",
     "output_type": "stream",
     "text": [
      "False\n",
      "True\n"
     ]
    }
   ],
   "source": [
    "def binary_search(array, item):\n",
    "\n",
    "    if not array:\n",
    "        return False\n",
    "\n",
    "    mid = len(array) // 2\n",
    "\n",
    "    if item == array[mid]:\n",
    "        return True\n",
    "\n",
    "    if item < array[mid]:\n",
    "        return binary_search(array[:mid], item)\n",
    "\n",
    "    if item > array[mid]:\n",
    "        return binary_search(array[mid + 1:], item)\n",
    "    \n",
    "testlist = [0, 1, 2, 8, 13, 17, 19, 32, 42]\n",
    "print(binary_search(testlist, 3))\n",
    "print(binary_search(testlist, 13))"
   ]
  },
  {
   "cell_type": "markdown",
   "metadata": {},
   "source": [
    "## Hashing"
   ]
  }
 ],
 "metadata": {
  "kernelspec": {
   "display_name": "Python 3",
   "language": "python",
   "name": "python3"
  },
  "language_info": {
   "codemirror_mode": {
    "name": "ipython",
    "version": 3
   },
   "file_extension": ".py",
   "mimetype": "text/x-python",
   "name": "python",
   "nbconvert_exporter": "python",
   "pygments_lexer": "ipython3",
   "version": "3.7.3"
  }
 },
 "nbformat": 4,
 "nbformat_minor": 4
}
