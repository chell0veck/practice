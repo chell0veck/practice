{
 "cells": [
  {
   "cell_type": "markdown",
   "metadata": {},
   "source": [
    "#  Graphs and Graph Algorithms\n",
    "\n",
    "There are 2 common implementations as matrix and list. Matrix better to use for big graphs."
   ]
  },
  {
   "cell_type": "code",
   "execution_count": 6,
   "metadata": {},
   "outputs": [],
   "source": [
    "class Vertex:\n",
    "\n",
    "    def __init__(self, key):\n",
    "        self.id = key\n",
    "        self.connection = {}\n",
    "\n",
    "    def add_neighbor(self, nbr, weight=0):\n",
    "        self.connection[nbr] = weight\n",
    "\n",
    "    def __str__(self):\n",
    "        return str(self.id) + 'connected to: ' + str([x.id for x in self.connection])\n",
    "\n",
    "    def get_connections(self):\n",
    "        return self.connection.keys()\n",
    "\n",
    "    def get_id(self):\n",
    "        return self.id\n",
    "\n",
    "    def get_weight(self, nbr):\n",
    "        return self.connection[nbr]"
   ]
  },
  {
   "cell_type": "code",
   "execution_count": 4,
   "metadata": {},
   "outputs": [],
   "source": [
    "class Graph:\n",
    "\n",
    "    def __init__(self):\n",
    "        self.vertex_list = {}\n",
    "        self.num_vertex = 0\n",
    "\n",
    "\n",
    "    def add_vertex(self, key):\n",
    "        new_vertex = Vertex(key)\n",
    "        self.vertex_list[key] = new_vertex\n",
    "        self.num_vertex += 1\n",
    "        return new_vertex\n",
    "\n",
    "    def get_vertex(self, n):\n",
    "        if n in self.vertex_list:\n",
    "            return self.vertex_list[n]\n",
    "        else:\n",
    "            return None\n",
    "\n",
    "    def __contains__(self, n):\n",
    "        return n in self.vertex_list\n",
    "\n",
    "    def add_edge(self, f, t, cost=0):\n",
    "\n",
    "        if f not in self.vertex_list:\n",
    "            self.add_vertex(f)\n",
    "        if t not in self.vertex_list:\n",
    "            self.add_vertex(t)\n",
    "\n",
    "        self.vertex_list[f].add_neighbor(self.vertex_list[t], cost)\n",
    "\n",
    "    def get_vertices(self):\n",
    "        return self.vertex_list.keys()\n",
    "\n",
    "    def __iter__(self):\n",
    "        return iter(self.vertex_list.values())"
   ]
  },
  {
   "cell_type": "code",
   "execution_count": 7,
   "metadata": {},
   "outputs": [
    {
     "name": "stdout",
     "output_type": "stream",
     "text": [
      "0, 1\n",
      "0, 5\n",
      "1, 2\n",
      "2, 3\n",
      "3, 4\n",
      "3, 5\n",
      "4, 0\n",
      "5, 4\n",
      "5, 2\n"
     ]
    }
   ],
   "source": [
    "g = Graph()\n",
    "\n",
    "for i in range(6):\n",
    "    g.add_vertex(i)\n",
    "\n",
    "# print(g.vertex_list)\n",
    "\n",
    "\n",
    "edges = [(0,1,5), (0,5,2), (1,2,4), (2,3,9), (3,4,7), (3,5,3), (4,0,1), (5,4,8), (5,2,1)]\n",
    "\n",
    "for edge in edges:\n",
    "    g.add_edge(*edge)\n",
    "\n",
    "for v in g:\n",
    "    for w in v.get_connections():\n",
    "        print('{}, {}'.format(v.get_id(), w.get_id()))"
   ]
  }
 ],
 "metadata": {
  "kernelspec": {
   "display_name": "Python 3",
   "language": "python",
   "name": "python3"
  },
  "language_info": {
   "codemirror_mode": {
    "name": "ipython",
    "version": 3
   },
   "file_extension": ".py",
   "mimetype": "text/x-python",
   "name": "python",
   "nbconvert_exporter": "python",
   "pygments_lexer": "ipython3",
   "version": "3.7.0"
  }
 },
 "nbformat": 4,
 "nbformat_minor": 2
}
