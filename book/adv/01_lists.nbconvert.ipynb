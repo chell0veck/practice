{
 "cells": [
  {
   "cell_type": "markdown",
   "metadata": {},
   "source": [
    "### LISTS"
   ]
  },
  {
   "cell_type": "markdown",
   "metadata": {},
   "source": [
    "## Singly linked list\n",
    "\n",
    "#### Pros\n",
    "- Linked list have constant-time insertions and deletions in any position, in comparison, arrays require O(n) time to do the same\n",
    "- Linked lists can continue to expand without having to specify their size ahead of time.\n",
    "\n",
    "#### Cons\n",
    "- To access an element in a linked list, you need to take O(k) time to go from the head of thelist to the kth element. In contranst, arrays have constant time operations to access elements in an array.\n",
    "\n",
    "Implementation:"
   ]
  },
  {
   "cell_type": "code",
   "execution_count": 3,
   "metadata": {},
   "outputs": [],
   "source": [
    "class SNode:\n",
    "    \n",
    "    def __init__(self, value):\n",
    "        self.value = value\n",
    "        self.next = None\n",
    "        \n",
    "\n",
    "a = SNode(1)\n",
    "b = SNode(2)\n",
    "c = SNode(3)\n",
    "\n",
    "a.next = b\n",
    "b.next = c\n",
    "\n"
   ]
  },
  {
   "cell_type": "markdown",
   "metadata": {},
   "source": [
    "## Doubly linked list"
   ]
  },
  {
   "cell_type": "code",
   "execution_count": 4,
   "metadata": {},
   "outputs": [],
   "source": [
    "class DNode:\n",
    "    \n",
    "    def __init__(self, value):\n",
    "        self.value = value\n",
    "        self.next = None\n",
    "        self.prev = None\n",
    "\n",
    "# init nodes\n",
    "a = DNode(1)\n",
    "b = DNode(2)\n",
    "c = DNode(3)\n",
    "d = DNode(4)\n",
    "\n",
    "# init list\n",
    "a.next = b\n",
    "b.prev = a\n",
    "b.next = c\n",
    "c.prev = b\n",
    "    "
   ]
  },
  {
   "cell_type": "markdown",
   "metadata": {},
   "source": [
    "## Alternative SNode implementation"
   ]
  },
  {
   "cell_type": "code",
   "execution_count": 5,
   "metadata": {},
   "outputs": [],
   "source": [
    "class Node:\n",
    "    \n",
    "    def __init__(self, value):\n",
    "        self.value = value\n",
    "        self.next = None\n",
    "        \n",
    "    def get_value(self):\n",
    "        return self.value\n",
    "    \n",
    "    def get_next(self):\n",
    "        return self.next\n",
    "    \n",
    "    def set_value(self, value):\n",
    "        self.value = value\n",
    "    \n",
    "    def set_next(self, value):\n",
    "        self.next = value"
   ]
  },
  {
   "cell_type": "markdown",
   "metadata": {},
   "source": [
    "## Unordered List Class\n",
    "\n",
    "Have added __str__ method and a bit adjusted search. Originally it was with a flag. And there is any option to implement the tail in order to make append = O(1)"
   ]
  },
  {
   "cell_type": "code",
   "execution_count": 6,
   "metadata": {},
   "outputs": [],
   "source": [
    "class UnorderedList:\n",
    "    \n",
    "    def __init__(self):\n",
    "        self.head = None\n",
    "    \n",
    "    def __str__(self):\n",
    "        node = self.head\n",
    "\n",
    "        while node:\n",
    "            print('{}({})'.format\n",
    "                  (node.__class__.__name__,node.get_value()), end=' -> ')\n",
    "            node = node.get_next()\n",
    "        return 'None'\n",
    "        \n",
    "    def is_empty(self):\n",
    "        return self.head is None\n",
    "    \n",
    "    def add(self, item):\n",
    "        temp = Node(item)\n",
    "        temp.set_next(self.head)\n",
    "        self.head = temp\n",
    "        \n",
    "    def size(self):\n",
    "        current = self.head\n",
    "        count = 0\n",
    "        \n",
    "        while current:\n",
    "            count += 1\n",
    "            current = current.get_next()\n",
    "        \n",
    "        return count\n",
    "    \n",
    "    def search(self, item):\n",
    "        current = self.head\n",
    "\n",
    "        while current:\n",
    "            if current.get_value() == item:\n",
    "                return True\n",
    "            current = current.get_next()\n",
    "        \n",
    "        return False\n",
    "    \n",
    "    def remove(self, item):\n",
    "        previous = None\n",
    "        current = self.head\n",
    "        found = False\n",
    "\n",
    "        while current and not found:\n",
    "            if current.get_value() == item:\n",
    "                found = True\n",
    "            else:\n",
    "                previous = current\n",
    "                current = current.get_next()\n",
    "\n",
    "        if found:\n",
    "            if not previous:\n",
    "                self.head = current.get_next()\n",
    "            else:\n",
    "                previous.set_next(current.get_next())"
   ]
  },
  {
   "cell_type": "code",
   "execution_count": 7,
   "metadata": {},
   "outputs": [
    {
     "name": "stdout",
     "output_type": "stream",
     "text": [
      "list object   : None\n",
      "list size     : 0\n",
      "list head     : None\n",
      "list is empty : True\n",
      "list object   : Node(9) -> Node(8) -> Node(7) -> Node(6) -> Node(5) -> Node(4) -> Node(3) -> Node(2) -> Node(1) -> Node(0) -> None\n",
      "list object   : Node(8) -> Node(7) -> Node(6) -> Node(5) -> Node(4) -> Node(3) -> Node(2) -> Node(1) -> Node(0) -> None\n"
     ]
    }
   ],
   "source": [
    "mylist = UnorderedList()\n",
    "print('list object   :', mylist)\n",
    "print('list size     :', mylist.size())\n",
    "print('list head     :', mylist.head)\n",
    "print('list is empty :', mylist.is_empty())\n",
    "\n",
    "for i in range(10):\n",
    "    mylist.add(i)\n",
    "\n",
    "print('list object   :', mylist)\n",
    "mylist.remove(9)\n",
    "print('list object   :', mylist)"
   ]
  },
  {
   "cell_type": "markdown",
   "metadata": {
    "toc-hr-collapsed": false
   },
   "source": [
    "## Ordered List"
   ]
  },
  {
   "cell_type": "code",
   "execution_count": 8,
   "metadata": {},
   "outputs": [],
   "source": [
    "class OrderedList:\n",
    "    \n",
    "    def __init__(self):\n",
    "        self.head = None\n",
    "        \n",
    "    def search(self, item):\n",
    "        current = self.head\n",
    "        found = False\n",
    "        stop = False\n",
    "        \n",
    "        while current and not found and not stop:\n",
    "            if current.get_value() == item:\n",
    "                found = True\n",
    "            else:\n",
    "                if current.get_value() > item:\n",
    "                    stop = True\n",
    "                else:\n",
    "                    current = current.get_next()\n",
    "        return found\n",
    "    \n",
    "    def add(self, item):\n",
    "        current = self.head\n",
    "        previous = None\n",
    "        stop = False\n",
    "        \n",
    "        while current and not stop:\n",
    "            if current.get_value() > item:\n",
    "                stop = True\n",
    "            else:\n",
    "                previous = current\n",
    "                current = current.get_next()\n",
    "                \n",
    "        node = Node(item)\n",
    "        \n",
    "        if previous == None:\n",
    "            node.set_next(self.head)\n",
    "            self.head = node\n",
    "        else:\n",
    "            node.set_next(current)\n",
    "            previous.set_next(node)\n",
    "        \n",
    "    def is_empty(self):\n",
    "        return self.head is None\n",
    "        \n",
    "    def size(self):\n",
    "        current = self.head\n",
    "        count = 0\n",
    "\n",
    "        while current:\n",
    "            count += 1\n",
    "            current = current.get_next()\n",
    "\n",
    "        return count\n",
    "                \n",
    "        "
   ]
  },
  {
   "cell_type": "code",
   "execution_count": 9,
   "metadata": {},
   "outputs": [
    {
     "name": "stdout",
     "output_type": "stream",
     "text": [
      "6\n",
      "True\n",
      "True\n"
     ]
    }
   ],
   "source": [
    "mylist = OrderedList()\n",
    "mylist.add(31)\n",
    "mylist.add(77)\n",
    "mylist.add(17)\n",
    "mylist.add(93)\n",
    "mylist.add(26)\n",
    "mylist.add(54)\n",
    "\n",
    "print(mylist.size())\n",
    "print(mylist.search(93))\n",
    "print(mylist.search(17))"
   ]
  },
  {
   "cell_type": "markdown",
   "metadata": {},
   "source": [
    "###  Problem 1 - Singly Linked List Cycle Check\n",
    "\n",
    "Problem:\n",
    " Given a singly linked list, write a function which takes in the first node in a singly linked list and returns a boolean indicating if the linked list contains a \"cycle\".\n",
    " A cycle is when a node's next point actually points to a previous node in the list. This is also something known as a circularly linked list"
   ]
  },
  {
   "cell_type": "code",
   "execution_count": 8,
   "metadata": {},
   "outputs": [
    {
     "name": "stdout",
     "output_type": "stream",
     "text": [
      "ALL TEST PASSED\n"
     ]
    }
   ],
   "source": [
    "from tests import TestCycleCheck\n",
    "\n",
    "\n",
    "# actually it is incorrect. I have assumed that values are unique. \n",
    "# changed to traking nodes itself.\n",
    "# that is a bad idea due to space consuming.\n",
    "\n",
    "def cycle_check(node):\n",
    "    visited = set()\n",
    "     \n",
    "    while node:\n",
    "        if node in visited:\n",
    "            return True\n",
    "        else:\n",
    "            visited.add(node)\n",
    "            node = node.next\n",
    "    return False\n",
    "        \n",
    "\n",
    "t = TestCycleCheck()\n",
    "t.test(cycle_check)"
   ]
  },
  {
   "cell_type": "markdown",
   "metadata": {},
   "source": [
    "class solution"
   ]
  },
  {
   "cell_type": "code",
   "execution_count": 5,
   "metadata": {},
   "outputs": [
    {
     "name": "stdout",
     "output_type": "stream",
     "text": [
      "ALL TEST PASSED\n"
     ]
    }
   ],
   "source": [
    "from tests import TestCycleCheck\n",
    "\n",
    "def cycle_check(node):\n",
    "    marker1 = node\n",
    "    marker2 = node\n",
    "    \n",
    "    \n",
    "    while marker2 != None and marker2.next != None:\n",
    "        marker1 = marker1.next\n",
    "        marker2 = marker2.next.next\n",
    "        \n",
    "        \n",
    "        if marker1 == marker2:\n",
    "            return True\n",
    "\n",
    "    return False\n",
    "\n",
    "t = TestCycleCheck()\n",
    "t.test(cycle_check)"
   ]
  },
  {
   "cell_type": "markdown",
   "metadata": {},
   "source": [
    "added come edge cases(tried). Instead used from inet. This one looks good."
   ]
  },
  {
   "cell_type": "code",
   "execution_count": 6,
   "metadata": {},
   "outputs": [
    {
     "name": "stdout",
     "output_type": "stream",
     "text": [
      "ALL TEST PASSED\n"
     ]
    }
   ],
   "source": [
    "from tests import TestCycleCheck\n",
    "\n",
    "\n",
    "def cycle_check(node):\n",
    "    \n",
    "    slow = node\n",
    "    fast = node\n",
    "    \n",
    "    while fast:\n",
    "        slow = slow.next\n",
    "        \n",
    "        if fast.next:\n",
    "            fast = fast.next.next\n",
    "        else:\n",
    "            return False\n",
    "        \n",
    "        if slow is fast:\n",
    "            return True\n",
    "    \n",
    "    return False\n",
    "\n",
    "t = TestCycleCheck()\n",
    "t.test(cycle_check)"
   ]
  },
  {
   "cell_type": "markdown",
   "metadata": {},
   "source": [
    "###  Problem 2 - Linked List Reversal --- MEMO and Alternative\n",
    "\n",
    "Write a function to reverse a Lined List in place. The function will take in the head of the list as input and return the new head of the list. Couldn't do. Here is class solution\n"
   ]
  },
  {
   "cell_type": "code",
   "execution_count": 9,
   "metadata": {},
   "outputs": [
    {
     "name": "stdout",
     "output_type": "stream",
     "text": [
      "before\n",
      "1\n",
      "2\n",
      "3\n",
      "4\n",
      "after\n",
      "4\n",
      "3\n",
      "2\n",
      "1\n"
     ]
    }
   ],
   "source": [
    "from tests import SNode\n",
    "\n",
    "a, b, c, d = SNode(1), SNode(2), SNode(3), SNode(4)\n",
    "a.next = b; b.next = c; c.next = d\n",
    "\n",
    "\n",
    "# 1 -> 2 -> 3 -> 4\n",
    "def reverse(head):\n",
    "    prev = None\n",
    "    curr = head\n",
    "    nxt = None\n",
    "    \n",
    "    while curr:\n",
    "        nxt = curr.next\n",
    "        curr.next = prev\n",
    "        \n",
    "        prev = curr\n",
    "        curr = nxt\n",
    "    \n",
    "    return prev\n",
    "\n",
    "print('before')\n",
    "print(a.value)\n",
    "print(a.next.value)\n",
    "print(b.next.value)\n",
    "print(c.next.value)\n",
    "\n",
    "reverse(a)\n",
    "\n",
    "print('after')\n",
    "print(d.value)\n",
    "print(d.next.value)\n",
    "print(c.next.value)\n",
    "print(b.next.value)\n"
   ]
  },
  {
   "cell_type": "markdown",
   "metadata": {},
   "source": [
    "###  Problem 3 - Linked List Nth to Last Node\n",
    "\n",
    "my solution"
   ]
  },
  {
   "cell_type": "code",
   "execution_count": 1,
   "metadata": {},
   "outputs": [],
   "source": [
    "def nth_to_last(n, head):\n",
    "    current = head\n",
    "    \n",
    "    if n < 1:\n",
    "        raise LookupError('n is smaller than 1')\n",
    "\n",
    "    while current:\n",
    "        inner = current\n",
    "\n",
    "        for idx in range(n):\n",
    "            if inner.next:\n",
    "                inner = inner.next\n",
    "            elif not inner.next and idx < n -1:\n",
    "                raise LookupError('something wrong here')\n",
    "            else:\n",
    "                return current.value\n",
    "\n",
    "        current = current.next"
   ]
  },
  {
   "cell_type": "code",
   "execution_count": 2,
   "metadata": {},
   "outputs": [
    {
     "name": "stdout",
     "output_type": "stream",
     "text": [
      "ALL TEST CASES PASSED\n"
     ]
    }
   ],
   "source": [
    "from tests import TestNth2EndCheck\n",
    "\n",
    "\n",
    "t = TestNth2EndCheck()\n",
    "print(t.test(nth_to_last))"
   ]
  },
  {
   "cell_type": "markdown",
   "metadata": {},
   "source": [
    "class solution (seems to be much better)\n",
    "actually have adjusted: added edge case of 0 and during task actually he said that 2nd from the end would be [-2] when implemented so that 2nd from the end was the last."
   ]
  },
  {
   "cell_type": "code",
   "execution_count": 3,
   "metadata": {},
   "outputs": [],
   "source": [
    "def nth_to_last_node(n, head):\n",
    "    left_pointer = head\n",
    "    right_pointer = head\n",
    "    \n",
    "    if n < 1:\n",
    "        raise LookupError('n is less than 1')\n",
    "    \n",
    "    for i in range(1, n):\n",
    "        if not right_pointer.next:\n",
    "            raise LookupError('List is shorter than n.')\n",
    "        else:\n",
    "            right_pointer = right_pointer.next\n",
    "    \n",
    "    while right_pointer.next:\n",
    "        left_pointer = left_pointer.next\n",
    "        right_pointer = right_pointer.next\n",
    "\n",
    "    return left_pointer.value"
   ]
  },
  {
   "cell_type": "code",
   "execution_count": 4,
   "metadata": {},
   "outputs": [
    {
     "name": "stdout",
     "output_type": "stream",
     "text": [
      "ALL TEST CASES PASSED\n"
     ]
    }
   ],
   "source": [
    "from tests import TestNth2EndCheck\n",
    "\n",
    "\n",
    "t = TestNth2EndCheck()\n",
    "print(t.test(nth_to_last_node))"
   ]
  },
  {
   "cell_type": "code",
   "execution_count": null,
   "metadata": {},
   "outputs": [],
   "source": []
  }
 ],
 "metadata": {
  "kernelspec": {
   "display_name": "Python 3",
   "language": "python",
   "name": "python3"
  },
  "language_info": {
   "codemirror_mode": {
    "name": "ipython",
    "version": 3
   },
   "file_extension": ".py",
   "mimetype": "text/x-python",
   "name": "python",
   "nbconvert_exporter": "python",
   "pygments_lexer": "ipython3",
   "version": "3.7.3"
  },
  "toc-showmarkdowntxt": false
 },
 "nbformat": 4,
 "nbformat_minor": 4
}
