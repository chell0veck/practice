{
 "cells": [
  {
   "cell_type": "markdown",
   "metadata": {},
   "source": [
    "# ARRAY"
   ]
  },
  {
   "cell_type": "markdown",
   "metadata": {
    "collapsed": true
   },
   "source": [
    "## Problem 1. Anagram check\n",
    "\n",
    "Input: ignore spaces and capitalization\n",
    "TODO: Dynamic Arrays implementation"
   ]
  },
  {
   "cell_type": "markdown",
   "metadata": {},
   "source": [
    "#### SOLUTION 1 - O(4n) => O(n)"
   ]
  },
  {
   "cell_type": "code",
   "execution_count": 6,
   "metadata": {},
   "outputs": [
    {
     "data": {
      "text/plain": [
       "'ALL TEST CASES PASSED'"
      ]
     },
     "execution_count": 6,
     "metadata": {},
     "output_type": "execute_result"
    }
   ],
   "source": [
    "from tests import AnagramTest\n",
    "\n",
    "\n",
    "def anagram(s1, s2):\n",
    "    tr1 = s1.replace(' ', '').lower()\n",
    "    tr2 = s2.replace(' ', '').lower()\n",
    "    \n",
    "    return sorted(tr1) == sorted(tr2)\n",
    "\n",
    "\n",
    "a = AnagramTest()\n",
    "a.test(anagram)"
   ]
  },
  {
   "cell_type": "markdown",
   "metadata": {},
   "source": [
    "####  SOLUTION 2 - Keeping counter with a shared dict."
   ]
  },
  {
   "cell_type": "code",
   "execution_count": 7,
   "metadata": {},
   "outputs": [
    {
     "data": {
      "text/plain": [
       "'ALL TEST CASES PASSED'"
      ]
     },
     "execution_count": 7,
     "metadata": {},
     "output_type": "execute_result"
    }
   ],
   "source": [
    "from tests import AnagramTest\n",
    "\n",
    "def anagram(s1, s2):\n",
    "    tr1 = s1.replace(' ', '').lower()\n",
    "    tr2 = s2.replace(' ', '').lower()\n",
    "    \n",
    "    if len(tr1) != len (tr2):\n",
    "        return False\n",
    "    \n",
    "    count = {}\n",
    "    \n",
    "    for letter in tr1:\n",
    "        if letter in count:\n",
    "            count[letter] += 1\n",
    "        else:\n",
    "            count[letter] = 1\n",
    "    \n",
    "    for letter in tr2:\n",
    "        if letter in count:\n",
    "            count[letter] -= 1\n",
    "        else:\n",
    "            count[letter] = 1\n",
    "    \n",
    "\n",
    "    for k in count:\n",
    "        if count[k] != 0:\n",
    "            return False\n",
    "    \n",
    "    return True\n",
    "\n",
    "\n",
    "a = AnagramTest()\n",
    "a.test(anagram)    "
   ]
  },
  {
   "cell_type": "markdown",
   "metadata": {},
   "source": [
    "#### SOLUTOIN 3 -  Same but a bit adjusted (with dict.get and early false)"
   ]
  },
  {
   "cell_type": "code",
   "execution_count": 2,
   "metadata": {},
   "outputs": [
    {
     "data": {
      "text/plain": [
       "'ALL TEST CASES PASSED'"
      ]
     },
     "execution_count": 2,
     "metadata": {},
     "output_type": "execute_result"
    }
   ],
   "source": [
    "from udemy.tests import AnagramTest\n",
    "\n",
    "def anagram(s1, s2):\n",
    "    origin = {}\n",
    "\n",
    "    for letter in s1:\n",
    "        if letter.isalnum():\n",
    "            origin[letter.lower()] = origin.get(letter.lower(), 0) + 1\n",
    "\n",
    "    for letter in s2:\n",
    "        if letter.isalnum():\n",
    "            if letter.lower() not in origin:\n",
    "                return False\n",
    "            else:\n",
    "                origin[letter.lower()] -= 1\n",
    "\n",
    "    return sum(origin.values()) == 0\n",
    "\n",
    "a = AnagramTest()\n",
    "a.test(anagram) "
   ]
  },
  {
   "cell_type": "markdown",
   "metadata": {},
   "source": [
    "## Problem 2 - Sentence Reversal\n",
    "\n",
    "Input: 1) remove only all trailing whitespaces 2)Keep work registry"
   ]
  },
  {
   "cell_type": "markdown",
   "metadata": {},
   "source": [
    "#### SOLUTION 1 - PYTHON CLASSIC"
   ]
  },
  {
   "cell_type": "code",
   "execution_count": 14,
   "metadata": {},
   "outputs": [
    {
     "name": "stdout",
     "output_type": "stream",
     "text": [
      "best the is This\n"
     ]
    }
   ],
   "source": [
    "def reversal(sentence):\n",
    "    result = ' '.join(sentence.split()[::-1])\n",
    "    return result\n",
    "\n",
    "print(reversal(' This is the best '))"
   ]
  },
  {
   "cell_type": "markdown",
   "metadata": {},
   "source": [
    "#### SOLUTION 2 - with traking of start and end of each word"
   ]
  },
  {
   "cell_type": "code",
   "execution_count": 2,
   "metadata": {},
   "outputs": [
    {
     "name": "stdout",
     "output_type": "stream",
     "text": [
      "best the is This \n"
     ]
    }
   ],
   "source": [
    "def reversal(sentence):\n",
    "    escape = ' '\n",
    "    started = None\n",
    "    sent = []\n",
    "    output = ''\n",
    "\n",
    "    for idx, letter in enumerate(sentence):\n",
    "\n",
    "        if letter not in escape and not started:\n",
    "            started = idx\n",
    "        elif letter in escape and started:\n",
    "            ended = idx\n",
    "            sent.append(sentence[started:ended])\n",
    "            started = None\n",
    "\n",
    "    for idx in range(len(sent)):\n",
    "        output += sent[-idx-1] + ' '\n",
    "\n",
    "    return output\n",
    "\n",
    "print(reversal(' This is the best '))"
   ]
  },
  {
   "cell_type": "markdown",
   "metadata": {},
   "source": [
    "#### SOLUTION 3 -  from class, actually is better"
   ]
  },
  {
   "cell_type": "code",
   "execution_count": 5,
   "metadata": {},
   "outputs": [
    {
     "name": "stdout",
     "output_type": "stream",
     "text": [
      "best the is This\n"
     ]
    }
   ],
   "source": [
    "def reversal(s):\n",
    "    \n",
    "    words = []\n",
    "    length = len(s)\n",
    "    spaces = [' ']\n",
    "    i = 0\n",
    "    \n",
    "    while i < length:\n",
    "        if s[i] not in spaces:\n",
    "            word_start = i\n",
    "            \n",
    "            while i < length and s[i] not in spaces:\n",
    "                i += 1\n",
    "            \n",
    "            words.append(s[word_start:i])\n",
    "        i += 1\n",
    "        \n",
    "    return ' '.join(reversed(words))\n",
    "\n",
    "print(reversal('    This is the best '))"
   ]
  },
  {
   "cell_type": "markdown",
   "metadata": {},
   "source": [
    "## Problem 3 - String Compression\n",
    "\n",
    "Known as Run-length encoding (RLE) https://en.wikipedia.org/wiki/Run-length_encoding\n",
    "\n",
    "Input: 1) can be false compressed e.g.: 'AAB' both 'A2B' and 'A2b1' correct 2) should be case sensitive"
   ]
  },
  {
   "cell_type": "markdown",
   "metadata": {},
   "source": [
    "#### SOLUTION 1 - python style with groupby"
   ]
  },
  {
   "cell_type": "code",
   "execution_count": 3,
   "metadata": {},
   "outputs": [
    {
     "name": "stdout",
     "output_type": "stream",
     "text": [
      "ALL TEST CASES PASSED\n"
     ]
    }
   ],
   "source": [
    "from itertools import groupby\n",
    "from udemy.tests import TestRLE\n",
    "\n",
    "# my variant\n",
    "def rle_compress(string):\n",
    "    output = ''.join(k + str(len(list(g))) for k, g in groupby(string))\n",
    "    return output\n",
    "\n",
    "# Yurka's variant\n",
    "def rle_compress1(string):                      \n",
    "    return ''.join(k + str(sum(1 for _ in g))  \n",
    "                   for k, g in groupby(string))\n",
    "\n",
    "t = TestRLE()\n",
    "print(t.test(rle_compress))"
   ]
  },
  {
   "cell_type": "markdown",
   "metadata": {},
   "source": [
    "#### SOLUTION 2 - WHILE loop.\n",
    "\n",
    "+: elegant, just replace last if with while. recursion like.\n",
    "\n",
    "-: need carefully track index, that is not very plesant.\n"
   ]
  },
  {
   "cell_type": "code",
   "execution_count": 2,
   "metadata": {},
   "outputs": [
    {
     "name": "stdout",
     "output_type": "stream",
     "text": [
      "ALL TEST CASES PASSED\n"
     ]
    }
   ],
   "source": [
    "from udemy.tests import TestRLE\n",
    "\n",
    "\n",
    "def rle_compress(string):\n",
    "    idx = 0\n",
    "    end = len(string)\n",
    "    output = ''\n",
    "\n",
    "    while idx < end:\n",
    "        series = string[idx]\n",
    "        counter = 1\n",
    "\n",
    "        while idx + counter < end:\n",
    "            next_item = string[idx + counter]\n",
    "\n",
    "            if next_item == series:\n",
    "                counter += 1\n",
    "            else:\n",
    "                break\n",
    "\n",
    "        output += series + str(counter)\n",
    "        idx += counter\n",
    "    return output\n",
    "\n",
    "t = TestRLE()\n",
    "print(t.test(rle_compress))"
   ]
  },
  {
   "cell_type": "markdown",
   "metadata": {},
   "source": [
    "#### SOLUTION 3 - FOR loop\n",
    "\n",
    "+: 50/50 python/classical way. no need to track index\n",
    "\n",
    "-: some duplication "
   ]
  },
  {
   "cell_type": "code",
   "execution_count": 20,
   "metadata": {},
   "outputs": [
    {
     "name": "stdout",
     "output_type": "stream",
     "text": [
      "ALL TEST CASES PASSED\n"
     ]
    }
   ],
   "source": [
    "from udemy.tests import TestRLE\n",
    "\n",
    "\n",
    "def rle_compress(string):\n",
    "\n",
    "    if string == '':\n",
    "        return ''\n",
    "\n",
    "    series = string[0]\n",
    "    counter = 1\n",
    "    output = ''\n",
    "\n",
    "    for next_char in string[1:]:\n",
    "        if next_char == series:\n",
    "            counter += 1\n",
    "        else:\n",
    "            output += series + str(counter)\n",
    "            series = next_char\n",
    "            counter = 1\n",
    "\n",
    "    output += series + str(counter)\n",
    "    return output\n",
    "\n",
    "t = TestRLE()\n",
    "print(t.test(rle_compress))"
   ]
  },
  {
   "cell_type": "markdown",
   "metadata": {},
   "source": [
    "#### SOLUTION 4 -  FROM CLASS"
   ]
  },
  {
   "cell_type": "code",
   "execution_count": 21,
   "metadata": {},
   "outputs": [
    {
     "name": "stdout",
     "output_type": "stream",
     "text": [
      "A2B1\n"
     ]
    }
   ],
   "source": [
    "def compress(s):\n",
    "    \n",
    "    r = ''\n",
    "    l = len(s)\n",
    "    \n",
    "    if l == 0:\n",
    "        return ''\n",
    "    \n",
    "    # this part actually can be skipped.\n",
    "    if l == 1:\n",
    "        return s + '1'\n",
    "    \n",
    "    last = s[0]\n",
    "    cnt = 1\n",
    "    i = 1\n",
    "    \n",
    "    while i < l:\n",
    "        \n",
    "        if s[i] == s[i-1]:\n",
    "            cnt += 1\n",
    "        else:\n",
    "            r = r + s[i-1] + str(cnt)\n",
    "            cnt = 1\n",
    "        i += 1\n",
    "    r = r + s[i-1] + str(cnt)\n",
    "    \n",
    "    return r\n",
    "\n",
    "print(compress('AAB'))\n"
   ]
  },
  {
   "cell_type": "markdown",
   "metadata": {},
   "source": [
    "#### SOLUTION 5 - RECURSION"
   ]
  }
 ],
 "metadata": {
  "kernelspec": {
   "display_name": "Python 3",
   "language": "python",
   "name": "python3"
  },
  "language_info": {
   "codemirror_mode": {
    "name": "ipython",
    "version": 3
   },
   "file_extension": ".py",
   "mimetype": "text/x-python",
   "name": "python",
   "nbconvert_exporter": "python",
   "pygments_lexer": "ipython3",
   "version": "3.7.0"
  }
 },
 "nbformat": 4,
 "nbformat_minor": 1
}
