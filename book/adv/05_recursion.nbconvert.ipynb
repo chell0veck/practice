{
 "cells": [
  {
   "cell_type": "markdown",
   "metadata": {},
   "source": [
    "#  Recursion\n",
    "\n",
    "\n",
    "Like the robots of Asimov, all recursive algorithms must obey three important laws:\n",
    "1. A recursive algorithm must have a base case.\n",
    "2.  recursive algorithm must change its state and move toward the base case.\n",
    "3. recursive algorithm must call itself, recursively."
   ]
  },
  {
   "cell_type": "code",
   "execution_count": 1,
   "metadata": {
    "scrolled": false
   },
   "outputs": [
    {
     "data": {
      "text/html": [
       "<img src=\"http://faculty.cs.niu.edu/~freedman/241/241notes/recur.gif\"/>"
      ],
      "text/plain": [
       "<IPython.core.display.Image object>"
      ]
     },
     "execution_count": 1,
     "metadata": {},
     "output_type": "execute_result"
    }
   ],
   "source": [
    "from IPython.display import Image\n",
    "from IPython.core.display import HTML\n",
    "Image(url='http://faculty.cs.niu.edu/~freedman/241/241notes/recur.gif')"
   ]
  },
  {
   "cell_type": "code",
   "execution_count": 2,
   "metadata": {},
   "outputs": [],
   "source": [
    "def fact(n):  \n",
    "    if n == 0:\n",
    "        print('\\n')\n",
    "        print('hit the base case, starting to unwrap.')\n",
    "        print('\\n')\n",
    "        return 1\n",
    "    else:\n",
    "        \n",
    "        print('n={}, not base case, next is fact({})!'.format(n, n-1))\n",
    "        res = n * fact(n-1)\n",
    "        print('{} * {}! = {}'.format(n ,n -1, res))\n",
    "        return res"
   ]
  },
  {
   "cell_type": "code",
   "execution_count": 3,
   "metadata": {},
   "outputs": [
    {
     "name": "stdout",
     "output_type": "stream",
     "text": [
      "n=5, not base case, next is fact(4)!\n",
      "n=4, not base case, next is fact(3)!\n",
      "n=3, not base case, next is fact(2)!\n",
      "n=2, not base case, next is fact(1)!\n",
      "n=1, not base case, next is fact(0)!\n",
      "\n",
      "\n",
      "hit the base case, starting to unwrap.\n",
      "\n",
      "\n",
      "1 * 0! = 1\n",
      "2 * 1! = 2\n",
      "3 * 2! = 6\n",
      "4 * 3! = 24\n",
      "5 * 4! = 120\n"
     ]
    },
    {
     "data": {
      "text/plain": [
       "120"
      ]
     },
     "execution_count": 3,
     "metadata": {},
     "output_type": "execute_result"
    }
   ],
   "source": [
    "fact(5)"
   ]
  },
  {
   "cell_type": "markdown",
   "metadata": {},
   "source": [
    "###  Stack Frames: Implementing Recursion"
   ]
  },
  {
   "cell_type": "code",
   "execution_count": 4,
   "metadata": {},
   "outputs": [
    {
     "name": "stdout",
     "output_type": "stream",
     "text": [
      "5AD\n"
     ]
    }
   ],
   "source": [
    "def to_str(n,base):\n",
    "    lookup = \"0123456789ABCDEF\"\n",
    "    stack = []\n",
    "    res = \"\"\n",
    "    \n",
    "    while n > base:\n",
    "        stack.append(lookup[n % base])\n",
    "        n = n // base      \n",
    "    stack.append(lookup[n])\n",
    "    \n",
    "    while stack:\n",
    "        res +=  str(stack.pop())\n",
    "    \n",
    "    return res\n",
    "\n",
    "print(to_str(1453,16))"
   ]
  },
  {
   "cell_type": "markdown",
   "metadata": {},
   "source": [
    "### Tower of Hanoi\n",
    "\n",
    "source: http://interactivepython.org/courselib/static/pythonds/Recursion/TowerofHanoi.html\n"
   ]
  },
  {
   "cell_type": "code",
   "execution_count": 9,
   "metadata": {},
   "outputs": [],
   "source": [
    "def move_tower(height, from_pole, to_pole, with_pole):\n",
    "    if height >= 1:\n",
    "        move_tower(height-1, from_pole, with_pole, to_pole)\n",
    "        move_disk(from_pole, to_pole)\n",
    "        move_tower(height-1, with_pole, to_pole, from_pole)\n",
    "\n",
    "def move_disk(fp, tp):\n",
    "    print('moving disk from {} to {}'.format(fp, tp))"
   ]
  },
  {
   "cell_type": "code",
   "execution_count": 11,
   "metadata": {},
   "outputs": [
    {
     "name": "stdout",
     "output_type": "stream",
     "text": [
      "moving disk from A to B\n",
      "moving disk from A to C\n",
      "moving disk from B to C\n",
      "moving disk from A to B\n",
      "moving disk from C to A\n",
      "moving disk from C to B\n",
      "moving disk from A to B\n"
     ]
    }
   ],
   "source": [
    "move_tower(3, 'A', 'B', 'C')"
   ]
  },
  {
   "cell_type": "markdown",
   "metadata": {},
   "source": [
    "#  Memoization\n"
   ]
  },
  {
   "cell_type": "markdown",
   "metadata": {},
   "source": [
    "#  Problems"
   ]
  },
  {
   "cell_type": "markdown",
   "metadata": {},
   "source": [
    "### Problem 1 - Cumulative sum of 0 to integer\n",
    "\n",
    "  Write a recursive function which takes an integer and computes the cumulative sum of 0 to that integer. For example, if n=4, return 4+3+2+1+0, which is 10"
   ]
  },
  {
   "cell_type": "code",
   "execution_count": 79,
   "metadata": {},
   "outputs": [
    {
     "data": {
      "text/plain": [
       "'ALL TEST CASES PASSED'"
      ]
     },
     "execution_count": 79,
     "metadata": {},
     "output_type": "execute_result"
    }
   ],
   "source": [
    "from tests import TestRecursionSum\n",
    "\n",
    "\n",
    "def rec_sum(n=4):\n",
    "    if n == 0:\n",
    "        return 0\n",
    "    return n + rec_sum(n-1)\n",
    "\n",
    "t = TestRecursionSum()\n",
    "t.test(rec_sum)"
   ]
  },
  {
   "cell_type": "markdown",
   "metadata": {},
   "source": [
    "### Problem 2 - Sum of all the individual integer\n",
    "\n",
    "Given an integer, create a function which returns the sum of all the individual integer. For example: if n = 4321, return 4+3+2+1\n",
    "\n",
    "Comment. Have done withing 15 mins but after a hint with modulo"
   ]
  },
  {
   "cell_type": "code",
   "execution_count": 83,
   "metadata": {},
   "outputs": [
    {
     "data": {
      "text/plain": [
       "10"
      ]
     },
     "execution_count": 83,
     "metadata": {},
     "output_type": "execute_result"
    }
   ],
   "source": [
    "def sum_func(n):\n",
    "    if not n // 10:\n",
    "        return n\n",
    "    return n % 10 + sum_func(n // 10)\n",
    "\n",
    "sum_func(4321)"
   ]
  },
  {
   "cell_type": "markdown",
   "metadata": {},
   "source": [
    "### Problem 3 - Split Words - DO\n",
    "\n",
    "Create a function called word_split() which takes in a string phrase and a set of list_of_words. The function with then determine if it possible to split the string in a way in which words can be make from the list of words. You can assume the phrase will only contain workds found in the dictionary if it is completely so\n",
    "\n",
    "words_split('themanran, ['the', 'ran', 'man']) output: ['the', 'ran', 'man']\n",
    "\n",
    "words_split('theranman, ['clown', 'ran', 'man']) output: []"
   ]
  },
  {
   "cell_type": "code",
   "execution_count": 94,
   "metadata": {},
   "outputs": [],
   "source": [
    "def word_split(phrase, list_of_words, output=None):\n",
    "    pass"
   ]
  },
  {
   "cell_type": "markdown",
   "metadata": {},
   "source": [
    "### Problem 4 - Converting an Integer to a String in Any Base"
   ]
  },
  {
   "cell_type": "code",
   "execution_count": 100,
   "metadata": {},
   "outputs": [
    {
     "data": {
      "text/plain": [
       "'5AD'"
      ]
     },
     "execution_count": 100,
     "metadata": {},
     "output_type": "execute_result"
    }
   ],
   "source": [
    "def to_str(n, base):\n",
    "    lookup = '0123456789ABCDEF'\n",
    "    \n",
    "    if n < base:\n",
    "        return lookup[n]\n",
    "    else:\n",
    "        return to_str(n // base, base) + lookup[n % base]\n",
    "    \n",
    "\n",
    "to_str(1453, 16)"
   ]
  },
  {
   "cell_type": "markdown",
   "metadata": {},
   "source": [
    "### Problem 5 - Reverse a String"
   ]
  },
  {
   "cell_type": "code",
   "execution_count": 19,
   "metadata": {},
   "outputs": [],
   "source": [
    "def rec_reverse(s):\n",
    "    if not s:\n",
    "        return ''\n",
    "\n",
    "    while s:\n",
    "        return rec_reverse(s[1:]) + s[0]\n",
    "    return s"
   ]
  },
  {
   "cell_type": "markdown",
   "metadata": {},
   "source": [
    "From the class. Have added empty string check"
   ]
  },
  {
   "cell_type": "code",
   "execution_count": 25,
   "metadata": {},
   "outputs": [],
   "source": [
    "def reverse(s):\n",
    "    if not s:\n",
    "        return ''\n",
    "    if len(s) <= 1:\n",
    "        return s\n",
    "    return reverse(s[1:]) + s[0]"
   ]
  },
  {
   "cell_type": "code",
   "execution_count": 26,
   "metadata": {},
   "outputs": [
    {
     "name": "stdout",
     "output_type": "stream",
     "text": [
      "ALL TEST CASES PASSED\n",
      "ALL TEST CASES PASSED\n"
     ]
    }
   ],
   "source": [
    "from tests import TestRecurstionStringReverse\n",
    "\n",
    "\n",
    "t = TestRecurstionStringReverse()\n",
    "print(t.test(rec_reverse))\n",
    "print(t.test(reverse))"
   ]
  },
  {
   "cell_type": "markdown",
   "metadata": {},
   "source": [
    "### Problem 5 - Palindrome Check\n",
    "\n",
    "Write a function that takes a string as a parameter and returns True if the string is a palindrome, False otherwise. Remember that a string is a palindrome if it is spelled the same both forward and backward. For example: radar is a palindrome. for bonus points palindromes can also be phrases, but you need to remove the spaces and punctuation before checking. for example: madam i’m adam is a palindrome. Other fun palindromes include:"
   ]
  },
  {
   "cell_type": "markdown",
   "metadata": {},
   "source": [
    "non-recursive:"
   ]
  },
  {
   "cell_type": "code",
   "execution_count": 3,
   "metadata": {},
   "outputs": [],
   "source": [
    "def palindrome_check_while(s):\n",
    "    tr = ''.join(l.lower() for l in s if l.isalpha())\n",
    "\n",
    "    while len(tr) > 1:\n",
    "        if tr[0] != tr[-1]:\n",
    "            return False\n",
    "        tr = tr[1:-1]\n",
    "    return True"
   ]
  },
  {
   "cell_type": "code",
   "execution_count": 4,
   "metadata": {},
   "outputs": [],
   "source": [
    "def palindrome_check_rec(s):\n",
    "    tr = ''.join(l.lower() for l in s if l.isalpha())\n",
    "\n",
    "    while len(tr) > 1:\n",
    "\n",
    "        if tr[0] != tr[-1]:\n",
    "            return False\n",
    "\n",
    "        return rec_palindrome_check(tr[1:-1])\n",
    "\n",
    "    return True"
   ]
  },
  {
   "cell_type": "code",
   "execution_count": 6,
   "metadata": {},
   "outputs": [
    {
     "data": {
      "text/plain": [
       "'ALL TEST CASES PASSED'"
      ]
     },
     "execution_count": 6,
     "metadata": {},
     "output_type": "execute_result"
    }
   ],
   "source": [
    "from tests import TestPalindromePhraseCheck\n",
    "\n",
    "\n",
    "t1 = TestPalindromePhraseCheck()\n",
    "t.test(palindrome_check_while)"
   ]
  },
  {
   "cell_type": "code",
   "execution_count": 7,
   "metadata": {},
   "outputs": [
    {
     "data": {
      "text/plain": [
       "'ALL TEST CASES PASSED'"
      ]
     },
     "execution_count": 7,
     "metadata": {},
     "output_type": "execute_result"
    }
   ],
   "source": [
    "from tests import TestPalindromePhraseCheck\n",
    "\n",
    "\n",
    "t2 = TestPalindromePhraseCheck()\n",
    "t.test(palindrome_check_rec)"
   ]
  },
  {
   "cell_type": "markdown",
   "metadata": {},
   "source": [
    "### Problem 6 - Coin Change Problem\n",
    "\n",
    "source: http://interactivepython.org/courselib/static/pythonds/Recursion/DynamicProgramming.html\n",
    "\n",
    "Given a target amount n and a list(array) of distinct coin values, what's the fewest coins needed to make the change amount\n",
    "\n",
    "For example if n=10 and coins=[1, 5, 10]. Then there are 4 possible ways to make change:\n",
    "- 1+1+1+1+1+1+1+1+1+1\n",
    "- 5+1+1+1+1+1\n",
    "- 5+5\n",
    "- 10\n",
    "\n",
    "I do not do how to do that recursively. Only iteratively.\n",
    "\n",
    "#### Iter"
   ]
  },
  {
   "cell_type": "code",
   "execution_count": 22,
   "metadata": {},
   "outputs": [],
   "source": [
    "def rec_coin_iter(target, coins):\n",
    "    count = 0\n",
    "    temps = 0\n",
    "\n",
    "    for coin in sorted(coins, reverse=True):\n",
    "\n",
    "        while temps + coin <= target:\n",
    "            temps += coin\n",
    "            count += 1\n",
    "\n",
    "    return count"
   ]
  },
  {
   "cell_type": "markdown",
   "metadata": {},
   "source": [
    "#### recursive without memoization"
   ]
  },
  {
   "cell_type": "code",
   "execution_count": 24,
   "metadata": {},
   "outputs": [],
   "source": [
    "def rec_coin_rec(target, coins):\n",
    "    min_coins = target\n",
    "    \n",
    "    if target in coins:\n",
    "        return 1\n",
    "    \n",
    "    else: \n",
    "        for i in [c for c in coins if c <= target]:\n",
    "            num_coins = 1 + rec_coin_rec(target-i, coins)\n",
    "            \n",
    "            if num_coins < min_coins:\n",
    "                min_coins = num_coins\n",
    "        \n",
    "    return min_coins"
   ]
  },
  {
   "cell_type": "markdown",
   "metadata": {},
   "source": [
    "### Problem 7 - String Permutation\n",
    "\n",
    "Given s string, write a function that uses recursion to output a list of all possible permutaions of that string.\n",
    "\n",
    "For example, gives s = 'abc' the function should return ['abc', 'acb', 'bac', 'bca', 'cab', 'cba']"
   ]
  },
  {
   "cell_type": "code",
   "execution_count": 29,
   "metadata": {},
   "outputs": [],
   "source": [
    "def permute(s):\n",
    "    out = []\n",
    "\n",
    "    if len(s) == 1:\n",
    "        out = [s]\n",
    "\n",
    "    else:\n",
    "        for i, let in enumerate(s):\n",
    "            for perm in permute(s[:i] + s[i + 1:]):\n",
    "                out += [let + perm]\n",
    "\n",
    "    return out"
   ]
  },
  {
   "cell_type": "code",
   "execution_count": 30,
   "metadata": {},
   "outputs": [
    {
     "name": "stdout",
     "output_type": "stream",
     "text": [
      "['abc', 'acb', 'bac', 'bca', 'cab', 'cba']\n"
     ]
    }
   ],
   "source": [
    "print(permute('abc'))"
   ]
  },
  {
   "cell_type": "markdown",
   "metadata": {},
   "source": [
    "### Problem 8  - Fibonacci"
   ]
  },
  {
   "cell_type": "markdown",
   "metadata": {},
   "source": [
    "#### Recursively"
   ]
  },
  {
   "cell_type": "code",
   "execution_count": 4,
   "metadata": {},
   "outputs": [],
   "source": [
    "def fib_rec(n):\n",
    "    if n == 0 or n  == 1:\n",
    "        return n\n",
    "    \n",
    "    return fib_rec(n - 1) + fib_rec(n - 2)"
   ]
  },
  {
   "cell_type": "markdown",
   "metadata": {},
   "source": [
    "#### Dynamically (Using Memoization to store results)"
   ]
  },
  {
   "cell_type": "code",
   "execution_count": 14,
   "metadata": {},
   "outputs": [
    {
     "name": "stdout",
     "output_type": "stream",
     "text": [
      "55\n"
     ]
    }
   ],
   "source": [
    "_MEMO = {0:0, 1:1}\n",
    "\n",
    "\n",
    "def fib_memo(n):\n",
    "    \n",
    "    if n not in _MEMO:\n",
    "        calculated = fib_memo(n - 1) + fib_memo(n - 2)\n",
    "        _MEMO[n] = calculated\n",
    "    \n",
    "    return _MEMO[n]\n",
    "\n",
    "print(fib_memo(10))"
   ]
  },
  {
   "cell_type": "markdown",
   "metadata": {},
   "source": [
    "#### Iteratively"
   ]
  },
  {
   "cell_type": "code",
   "execution_count": 6,
   "metadata": {},
   "outputs": [],
   "source": [
    "def fib_iter(n):\n",
    "    a, b = 0, 1\n",
    "\n",
    "    for i in range(n):\n",
    "        a, b = b, a + b\n",
    "\n",
    "    return a"
   ]
  },
  {
   "cell_type": "markdown",
   "metadata": {},
   "source": [
    "#### cache"
   ]
  },
  {
   "cell_type": "code",
   "execution_count": 25,
   "metadata": {},
   "outputs": [],
   "source": [
    "from functools import lru_cache\n",
    "\n",
    "\n",
    "@lru_cache(maxsize=1000)\n",
    "def fib_lru(n):\n",
    "    if n == 0:\n",
    "        return 0\n",
    "\n",
    "    while n > 2:\n",
    "        return fib_lru(n - 1) + fib_lru(n - 2)\n",
    "    return 1"
   ]
  },
  {
   "cell_type": "markdown",
   "metadata": {},
   "source": [
    "#### TEST"
   ]
  },
  {
   "cell_type": "code",
   "execution_count": 32,
   "metadata": {},
   "outputs": [
    {
     "name": "stdout",
     "output_type": "stream",
     "text": [
      "number: 10, straigh:0.03573, memo: 0.000162, lru: 0.0001019, iter: 0.0008118\n",
      "number: 11, straigh:0.06179, memo: 0.0001627, lru: 0.0001023, iter: 0.0009345\n",
      "number: 12, straigh:0.07925, memo: 0.0001624, lru: 0.000105, iter: 0.0008934\n",
      "number: 13, straigh:0.1479, memo: 0.000162, lru: 0.0001012, iter: 0.0009492\n",
      "number: 14, straigh:0.2012, memo: 0.0001624, lru: 0.0001004, iter: 0.001066\n",
      "number: 15, straigh:0.3332, memo: 0.0001627, lru: 0.0001012, iter: 0.001089\n",
      "number: 16, straigh:0.531, memo: 0.0001616, lru: 0.0001008, iter: 0.001152\n",
      "number: 17, straigh:0.8869, memo: 0.000162, lru: 0.0001008, iter: 0.001237\n",
      "number: 18, straigh:1.394, memo: 0.000162, lru: 0.0001016, iter: 0.001256\n",
      "number: 19, straigh:2.245, memo: 0.0001631, lru: 0.0001809, iter: 0.001381\n",
      "number: 20, straigh:3.792, memo: 0.0001661, lru: 0.0001042, iter: 0.001502\n"
     ]
    }
   ],
   "source": [
    "import timeit\n",
    "\n",
    "\n",
    "for i in range(10, 21, 1):\n",
    "    num = i\n",
    "\n",
    "    t1 = timeit.timeit(stmt='fib_rec(num)', setup='from __main__ import fib_rec, num', number=1000)\n",
    "    t2 = timeit.timeit(stmt='fib_memo(num)', setup='from __main__ import fib_memo, _MEMO, num', number=1000)\n",
    "    t3 = timeit.timeit(stmt='fib_lru(num)', setup='from __main__ import fib_lru, num', number=1000)\n",
    "    t4 = timeit.timeit(stmt='fib_iter(num)', setup='from __main__ import fib_iter, num', number=1000)\n",
    "\n",
    "    print('number: {}, straigh:{:>4.4}, memo: {:>6.4}, lru: {:>6.4}, iter: {:>6.4}'.\n",
    "          format(num, t1, t2, t3, t4))"
   ]
  }
 ],
 "metadata": {
  "kernelspec": {
   "display_name": "Python 3",
   "language": "python",
   "name": "python3"
  },
  "language_info": {
   "codemirror_mode": {
    "name": "ipython",
    "version": 3
   },
   "file_extension": ".py",
   "mimetype": "text/x-python",
   "name": "python",
   "nbconvert_exporter": "python",
   "pygments_lexer": "ipython3",
   "version": "3.7.3"
  }
 },
 "nbformat": 4,
 "nbformat_minor": 2
}
