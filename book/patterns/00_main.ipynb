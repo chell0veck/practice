{
 "cells": [
  {
   "cell_type": "markdown",
   "metadata": {},
   "source": [
    "# Table of content\n",
    "\n",
    "### Creational patterns\n",
    "01. Abstract Factory (Creates an instance of several families of classes)\n",
    "02. Builder (Separates object construction from its representation)\n",
    "03. Factory Method (Creates an instance of several derived classes)\n",
    "04. Object Pool (Avoid expensive acquisition and release of resources by recycling objects that are no longer in use)\n",
    "05. Prototype (A fully initialized instance to be copied or cloned)\n",
    "06. Singleton (A class of which only a single instance can exist)\n",
    "\n",
    "#### Rules of thumb\n",
    "- Sometimes creational patterns are competitors: there are cases when either Prototype or Abstract Factory could be used profitably. At other times they are complementary: Abstract Factory might store a set of Prototypes from which to clone and return product objects, Builder can use one of the other patterns to implement which components get built. Abstract Factory, Builder, and Prototype can use Singleton in their implementation.\n",
    "- Abstract Factory, Builder, and Prototype define a factory object that's responsible for knowing and creating the class of product objects, and make it a parameter of the system. Abstract Factory has the factory object producing objects of several classes. Builder has the factory object building a complex product incrementally using a correspondingly complex protocol. Prototype has the factory object (aka prototype) building a product by copying a prototype object.\n",
    "- Abstract Factory classes are often implemented with Factory Methods, but they can also be implemented using Prototype.\n",
    "- Abstract Factory can be used as an alternative to Facade to hide platform-specific classes.\n",
    "- Builder focuses on constructing a complex object step by step. Abstract Factory emphasizes a family of product objects (either simple or complex). Builder returns the product as a final step, but as far as the Abstract Factory is concerned, the product gets returned immediately.\n",
    "- Builder is to creation as Strategy is to algorithm.\n",
    "- Builder often builds a Composite.\n",
    "- Factory Methods are usually called within Template methods.\n",
    "- Factory Method: creation through inheritance. Prototype: creation through delegation.\n",
    "- Often, designs start out using Factory Method (less complicated, more customizable, subclasses proliferate) and evolve toward Abstract Factory, Prototype, or Builder (more flexible, more complex) as the designer discovers where more flexibility is needed.\n",
    "- Prototype doesn't require subclassing, but it does require an Initialize operation. Factory Method requires subclassing, but doesn't require Initialize.\n",
    "- Designs that make heavy use of the Composite and Decorator patterns often can benefit from Prototype as well."
   ]
  }
 ],
 "metadata": {
  "kernelspec": {
   "display_name": "Python 3",
   "language": "python",
   "name": "python3"
  },
  "language_info": {
   "codemirror_mode": {
    "name": "ipython",
    "version": 3
   },
   "file_extension": ".py",
   "mimetype": "text/x-python",
   "name": "python",
   "nbconvert_exporter": "python",
   "pygments_lexer": "ipython3",
   "version": "3.7.0"
  }
 },
 "nbformat": 4,
 "nbformat_minor": 2
}
