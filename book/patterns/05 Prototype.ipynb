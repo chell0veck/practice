{
 "cells": [
  {
   "cell_type": "markdown",
   "metadata": {},
   "source": [
    "# Prototype Design Pattern\n",
    "\n",
    "### Check list\n",
    "- Add a clone() method to the existing \"product\" hierarchy.\n",
    "- Design a \"registry\" that maintains a cache of prototypical objects. The registry could be encapsulated in a new Factory class, or in the base class of the \"product\" hierarchy.\n",
    "- Design a factory method that: may (or may not) accept arguments, finds the correct prototype object, calls clone() on that object, and returns the result.\n",
    "- The client replaces all references to the new operator with calls to the factory method.\n",
    "\n",
    "### Rules of thumb\n",
    "- Sometimes creational patterns are competitors: there are cases when either Prototype or Abstract Factory could be used properly. At other times they are complementary: Abstract Factory might store a set of Prototypes from which to clone and return product objects. Abstract Factory, Builder, and Prototype can use Singleton in their implementations.\n",
    "- Abstract Factory classes are often implemented with Factory Methods, but they can be implemented using Prototype.\n",
    "- Factory Method: creation through inheritance. Prototype: creation through delegation.\n",
    "- Often, designs start out using Factory Method (less complicated, more customizable, subclasses proliferate) and evolve toward Abstract Factory, Prototype, or Builder (more flexible, more complex) as the designer discovers where more flexibility is needed.\n",
    "- Prototype doesn't require subclassing, but it does require an \"initialize\" operation. Factory Method requires subclassing, but doesn't require Initialize.\n",
    "- Designs that make heavy use of the Composite and Decorator patterns often can benefit from Prototype as well.\n",
    "- Prototype co-opts one instance of a class for use as a breeder of all future instances.\n",
    "- Prototypes are useful when object initialization is expensive, and you anticipate few variations on the initialization parameters. In this context, Prototype can avoid expensive \"creation from scratch\", and support cheap cloning of a pre-initialized prototype.\n",
    "- Prototype is unique among the other creational patterns in that it doesn't require a class – only an object. Object-oriented languages like Self and Omega that do away with classes completely rely on prototypes for creating new objects."
   ]
  },
  {
   "cell_type": "code",
   "execution_count": 1,
   "metadata": {},
   "outputs": [],
   "source": [
    "import copy\n",
    "\n",
    "\n",
    "class Prototype:\n",
    "    \"\"\"\n",
    "    Example class to be copied.\n",
    "    \"\"\"\n",
    "\n",
    "    pass\n",
    "\n",
    "\n",
    "def main():\n",
    "    prototype = Prototype()\n",
    "    prototype_copy = copy.deepcopy(prototype)\n",
    "\n",
    "\n",
    "if __name__ == \"__main__\":\n",
    "    main()"
   ]
  }
 ],
 "metadata": {
  "kernelspec": {
   "display_name": "Python 3",
   "language": "python",
   "name": "python3"
  },
  "language_info": {
   "codemirror_mode": {
    "name": "ipython",
    "version": 3
   },
   "file_extension": ".py",
   "mimetype": "text/x-python",
   "name": "python",
   "nbconvert_exporter": "python",
   "pygments_lexer": "ipython3",
   "version": "3.7.0"
  }
 },
 "nbformat": 4,
 "nbformat_minor": 2
}
