{
 "cells": [
  {
   "cell_type": "markdown",
   "metadata": {},
   "source": [
    "# Part 5 Association Rule Learning\n",
    "- Apriori\n",
    "- Eclat"
   ]
  },
  {
   "cell_type": "markdown",
   "metadata": {},
   "source": [
    "### Apriori\n",
    "As an example sales optimization\n",
    "- min_support = buy 3 times a day, value = times*days_in_week/len(all_transactions) = 3*7/7500=0.0028=0.003\n",
    "- min_confidence = products in basken cause related not cause buy often. 80% is to much, 40% -> 20%\n",
    "- min_lift - 3, relevanc of the rule\n",
    "- min_lenght=2, at least 2 products...\n",
    "- play with args and choose meaninful"
   ]
  },
  {
   "cell_type": "code",
   "execution_count": 27,
   "metadata": {},
   "outputs": [
    {
     "name": "stdout",
     "output_type": "stream",
     "text": [
      "206\n"
     ]
    }
   ],
   "source": [
    "# Importing the libraries\n",
    "import numpy as np\n",
    "import matplotlib.pyplot as plt\n",
    "import pandas as pd\n",
    "\n",
    "# Importing the dataset\n",
    "dataset = pd.read_csv('Market_Basket_Optimisation.csv', header=None)\n",
    "transactions = []\n",
    "\n",
    "for i in range(5701):\n",
    "    transactions.append([str(dataset.values[i, j]) for j in range(20)])\n",
    "\n",
    "# Training Apriori on the dataset\n",
    "from apyori import apriori\n",
    "rules = apriori(transactions, min_support=0.003, min_confidence=0.2, min_lift=3, min_lenght=2)\n",
    "results = list(rules)\n",
    "\n",
    "print(len(results)) # output would be all the rules - 206 in our case."
   ]
  },
  {
   "cell_type": "markdown",
   "metadata": {},
   "source": [
    "### Eclat\n",
    "It has only support param comaring to Apriori that has support, confidence and lift (simplier version)"
   ]
  }
 ],
 "metadata": {
  "kernelspec": {
   "display_name": "Python 3",
   "language": "python",
   "name": "python3"
  },
  "language_info": {
   "codemirror_mode": {
    "name": "ipython",
    "version": 3
   },
   "file_extension": ".py",
   "mimetype": "text/x-python",
   "name": "python",
   "nbconvert_exporter": "python",
   "pygments_lexer": "ipython3",
   "version": "3.7.0"
  }
 },
 "nbformat": 4,
 "nbformat_minor": 2
}
